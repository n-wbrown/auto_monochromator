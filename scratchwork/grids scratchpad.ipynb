{
 "cells": [
  {
   "cell_type": "code",
   "execution_count": 1,
   "metadata": {},
   "outputs": [
    {
     "data": {
      "text/html": [
       "\n",
       "    <div class=\"bk-root\">\n",
       "        <a href=\"https://bokeh.pydata.org\" target=\"_blank\" class=\"bk-logo bk-logo-small bk-logo-notebook\"></a>\n",
       "        <span id=\"907a2e22-bf11-4a6e-acc3-37abaf1dac1a\">Loading BokehJS ...</span>\n",
       "    </div>"
      ]
     },
     "metadata": {},
     "output_type": "display_data"
    },
    {
     "data": {
      "application/javascript": [
       "\n",
       "(function(root) {\n",
       "  function now() {\n",
       "    return new Date();\n",
       "  }\n",
       "\n",
       "  var force = true;\n",
       "\n",
       "  if (typeof (root._bokeh_onload_callbacks) === \"undefined\" || force === true) {\n",
       "    root._bokeh_onload_callbacks = [];\n",
       "    root._bokeh_is_loading = undefined;\n",
       "  }\n",
       "\n",
       "  var JS_MIME_TYPE = 'application/javascript';\n",
       "  var HTML_MIME_TYPE = 'text/html';\n",
       "  var EXEC_MIME_TYPE = 'application/vnd.bokehjs_exec.v0+json';\n",
       "  var CLASS_NAME = 'output_bokeh rendered_html';\n",
       "\n",
       "  /**\n",
       "   * Render data to the DOM node\n",
       "   */\n",
       "  function render(props, node) {\n",
       "    var script = document.createElement(\"script\");\n",
       "    node.appendChild(script);\n",
       "  }\n",
       "\n",
       "  /**\n",
       "   * Handle when an output is cleared or removed\n",
       "   */\n",
       "  function handleClearOutput(event, handle) {\n",
       "    var cell = handle.cell;\n",
       "\n",
       "    var id = cell.output_area._bokeh_element_id;\n",
       "    var server_id = cell.output_area._bokeh_server_id;\n",
       "    // Clean up Bokeh references\n",
       "    if (id != null && id in Bokeh.index) {\n",
       "      Bokeh.index[id].model.document.clear();\n",
       "      delete Bokeh.index[id];\n",
       "    }\n",
       "\n",
       "    if (server_id !== undefined) {\n",
       "      // Clean up Bokeh references\n",
       "      var cmd = \"from bokeh.io.state import curstate; print(curstate().uuid_to_server['\" + server_id + \"'].get_sessions()[0].document.roots[0]._id)\";\n",
       "      cell.notebook.kernel.execute(cmd, {\n",
       "        iopub: {\n",
       "          output: function(msg) {\n",
       "            var id = msg.content.text.trim();\n",
       "            if (id in Bokeh.index) {\n",
       "              Bokeh.index[id].model.document.clear();\n",
       "              delete Bokeh.index[id];\n",
       "            }\n",
       "          }\n",
       "        }\n",
       "      });\n",
       "      // Destroy server and session\n",
       "      var cmd = \"import bokeh.io.notebook as ion; ion.destroy_server('\" + server_id + \"')\";\n",
       "      cell.notebook.kernel.execute(cmd);\n",
       "    }\n",
       "  }\n",
       "\n",
       "  /**\n",
       "   * Handle when a new output is added\n",
       "   */\n",
       "  function handleAddOutput(event, handle) {\n",
       "    var output_area = handle.output_area;\n",
       "    var output = handle.output;\n",
       "\n",
       "    // limit handleAddOutput to display_data with EXEC_MIME_TYPE content only\n",
       "    if ((output.output_type != \"display_data\") || (!output.data.hasOwnProperty(EXEC_MIME_TYPE))) {\n",
       "      return\n",
       "    }\n",
       "\n",
       "    var toinsert = output_area.element.find(\".\" + CLASS_NAME.split(' ')[0]);\n",
       "\n",
       "    if (output.metadata[EXEC_MIME_TYPE][\"id\"] !== undefined) {\n",
       "      toinsert[toinsert.length - 1].firstChild.textContent = output.data[JS_MIME_TYPE];\n",
       "      // store reference to embed id on output_area\n",
       "      output_area._bokeh_element_id = output.metadata[EXEC_MIME_TYPE][\"id\"];\n",
       "    }\n",
       "    if (output.metadata[EXEC_MIME_TYPE][\"server_id\"] !== undefined) {\n",
       "      var bk_div = document.createElement(\"div\");\n",
       "      bk_div.innerHTML = output.data[HTML_MIME_TYPE];\n",
       "      var script_attrs = bk_div.children[0].attributes;\n",
       "      for (var i = 0; i < script_attrs.length; i++) {\n",
       "        toinsert[toinsert.length - 1].firstChild.setAttribute(script_attrs[i].name, script_attrs[i].value);\n",
       "      }\n",
       "      // store reference to server id on output_area\n",
       "      output_area._bokeh_server_id = output.metadata[EXEC_MIME_TYPE][\"server_id\"];\n",
       "    }\n",
       "  }\n",
       "\n",
       "  function register_renderer(events, OutputArea) {\n",
       "\n",
       "    function append_mime(data, metadata, element) {\n",
       "      // create a DOM node to render to\n",
       "      var toinsert = this.create_output_subarea(\n",
       "        metadata,\n",
       "        CLASS_NAME,\n",
       "        EXEC_MIME_TYPE\n",
       "      );\n",
       "      this.keyboard_manager.register_events(toinsert);\n",
       "      // Render to node\n",
       "      var props = {data: data, metadata: metadata[EXEC_MIME_TYPE]};\n",
       "      render(props, toinsert[toinsert.length - 1]);\n",
       "      element.append(toinsert);\n",
       "      return toinsert\n",
       "    }\n",
       "\n",
       "    /* Handle when an output is cleared or removed */\n",
       "    events.on('clear_output.CodeCell', handleClearOutput);\n",
       "    events.on('delete.Cell', handleClearOutput);\n",
       "\n",
       "    /* Handle when a new output is added */\n",
       "    events.on('output_added.OutputArea', handleAddOutput);\n",
       "\n",
       "    /**\n",
       "     * Register the mime type and append_mime function with output_area\n",
       "     */\n",
       "    OutputArea.prototype.register_mime_type(EXEC_MIME_TYPE, append_mime, {\n",
       "      /* Is output safe? */\n",
       "      safe: true,\n",
       "      /* Index of renderer in `output_area.display_order` */\n",
       "      index: 0\n",
       "    });\n",
       "  }\n",
       "\n",
       "  // register the mime type if in Jupyter Notebook environment and previously unregistered\n",
       "  if (root.Jupyter !== undefined) {\n",
       "    var events = require('base/js/events');\n",
       "    var OutputArea = require('notebook/js/outputarea').OutputArea;\n",
       "\n",
       "    if (OutputArea.prototype.mime_types().indexOf(EXEC_MIME_TYPE) == -1) {\n",
       "      register_renderer(events, OutputArea);\n",
       "    }\n",
       "  }\n",
       "\n",
       "  \n",
       "  if (typeof (root._bokeh_timeout) === \"undefined\" || force === true) {\n",
       "    root._bokeh_timeout = Date.now() + 5000;\n",
       "    root._bokeh_failed_load = false;\n",
       "  }\n",
       "\n",
       "  var NB_LOAD_WARNING = {'data': {'text/html':\n",
       "     \"<div style='background-color: #fdd'>\\n\"+\n",
       "     \"<p>\\n\"+\n",
       "     \"BokehJS does not appear to have successfully loaded. If loading BokehJS from CDN, this \\n\"+\n",
       "     \"may be due to a slow or bad network connection. Possible fixes:\\n\"+\n",
       "     \"</p>\\n\"+\n",
       "     \"<ul>\\n\"+\n",
       "     \"<li>re-rerun `output_notebook()` to attempt to load from CDN again, or</li>\\n\"+\n",
       "     \"<li>use INLINE resources instead, as so:</li>\\n\"+\n",
       "     \"</ul>\\n\"+\n",
       "     \"<code>\\n\"+\n",
       "     \"from bokeh.resources import INLINE\\n\"+\n",
       "     \"output_notebook(resources=INLINE)\\n\"+\n",
       "     \"</code>\\n\"+\n",
       "     \"</div>\"}};\n",
       "\n",
       "  function display_loaded() {\n",
       "    var el = document.getElementById(\"907a2e22-bf11-4a6e-acc3-37abaf1dac1a\");\n",
       "    if (el != null) {\n",
       "      el.textContent = \"BokehJS is loading...\";\n",
       "    }\n",
       "    if (root.Bokeh !== undefined) {\n",
       "      if (el != null) {\n",
       "        el.textContent = \"BokehJS \" + root.Bokeh.version + \" successfully loaded.\";\n",
       "      }\n",
       "    } else if (Date.now() < root._bokeh_timeout) {\n",
       "      setTimeout(display_loaded, 100)\n",
       "    }\n",
       "  }\n",
       "\n",
       "\n",
       "  function run_callbacks() {\n",
       "    try {\n",
       "      root._bokeh_onload_callbacks.forEach(function(callback) { callback() });\n",
       "    }\n",
       "    finally {\n",
       "      delete root._bokeh_onload_callbacks\n",
       "    }\n",
       "    console.info(\"Bokeh: all callbacks have finished\");\n",
       "  }\n",
       "\n",
       "  function load_libs(js_urls, callback) {\n",
       "    root._bokeh_onload_callbacks.push(callback);\n",
       "    if (root._bokeh_is_loading > 0) {\n",
       "      console.log(\"Bokeh: BokehJS is being loaded, scheduling callback at\", now());\n",
       "      return null;\n",
       "    }\n",
       "    if (js_urls == null || js_urls.length === 0) {\n",
       "      run_callbacks();\n",
       "      return null;\n",
       "    }\n",
       "    console.log(\"Bokeh: BokehJS not loaded, scheduling load and callback at\", now());\n",
       "    root._bokeh_is_loading = js_urls.length;\n",
       "    for (var i = 0; i < js_urls.length; i++) {\n",
       "      var url = js_urls[i];\n",
       "      var s = document.createElement('script');\n",
       "      s.src = url;\n",
       "      s.async = false;\n",
       "      s.onreadystatechange = s.onload = function() {\n",
       "        root._bokeh_is_loading--;\n",
       "        if (root._bokeh_is_loading === 0) {\n",
       "          console.log(\"Bokeh: all BokehJS libraries loaded\");\n",
       "          run_callbacks()\n",
       "        }\n",
       "      };\n",
       "      s.onerror = function() {\n",
       "        console.warn(\"failed to load library \" + url);\n",
       "      };\n",
       "      console.log(\"Bokeh: injecting script tag for BokehJS library: \", url);\n",
       "      document.getElementsByTagName(\"head\")[0].appendChild(s);\n",
       "    }\n",
       "  };var element = document.getElementById(\"907a2e22-bf11-4a6e-acc3-37abaf1dac1a\");\n",
       "  if (element == null) {\n",
       "    console.log(\"Bokeh: ERROR: autoload.js configured with elementid '907a2e22-bf11-4a6e-acc3-37abaf1dac1a' but no matching script tag was found. \")\n",
       "    return false;\n",
       "  }\n",
       "\n",
       "  var js_urls = [\"https://cdn.pydata.org/bokeh/release/bokeh-0.13.0.min.js\", \"https://cdn.pydata.org/bokeh/release/bokeh-widgets-0.13.0.min.js\", \"https://cdn.pydata.org/bokeh/release/bokeh-tables-0.13.0.min.js\", \"https://cdn.pydata.org/bokeh/release/bokeh-gl-0.13.0.min.js\"];\n",
       "\n",
       "  var inline_js = [\n",
       "    function(Bokeh) {\n",
       "      Bokeh.set_log_level(\"info\");\n",
       "    },\n",
       "    \n",
       "    function(Bokeh) {\n",
       "      \n",
       "    },\n",
       "    function(Bokeh) {\n",
       "      console.log(\"Bokeh: injecting CSS: https://cdn.pydata.org/bokeh/release/bokeh-0.13.0.min.css\");\n",
       "      Bokeh.embed.inject_css(\"https://cdn.pydata.org/bokeh/release/bokeh-0.13.0.min.css\");\n",
       "      console.log(\"Bokeh: injecting CSS: https://cdn.pydata.org/bokeh/release/bokeh-widgets-0.13.0.min.css\");\n",
       "      Bokeh.embed.inject_css(\"https://cdn.pydata.org/bokeh/release/bokeh-widgets-0.13.0.min.css\");\n",
       "      console.log(\"Bokeh: injecting CSS: https://cdn.pydata.org/bokeh/release/bokeh-tables-0.13.0.min.css\");\n",
       "      Bokeh.embed.inject_css(\"https://cdn.pydata.org/bokeh/release/bokeh-tables-0.13.0.min.css\");\n",
       "    }\n",
       "  ];\n",
       "\n",
       "  function run_inline_js() {\n",
       "    \n",
       "    if ((root.Bokeh !== undefined) || (force === true)) {\n",
       "      for (var i = 0; i < inline_js.length; i++) {\n",
       "        inline_js[i].call(root, root.Bokeh);\n",
       "      }if (force === true) {\n",
       "        display_loaded();\n",
       "      }} else if (Date.now() < root._bokeh_timeout) {\n",
       "      setTimeout(run_inline_js, 100);\n",
       "    } else if (!root._bokeh_failed_load) {\n",
       "      console.log(\"Bokeh: BokehJS failed to load within specified timeout.\");\n",
       "      root._bokeh_failed_load = true;\n",
       "    } else if (force !== true) {\n",
       "      var cell = $(document.getElementById(\"907a2e22-bf11-4a6e-acc3-37abaf1dac1a\")).parents('.cell').data().cell;\n",
       "      cell.output_area.append_execute_result(NB_LOAD_WARNING)\n",
       "    }\n",
       "\n",
       "  }\n",
       "\n",
       "  if (root._bokeh_is_loading === 0) {\n",
       "    console.log(\"Bokeh: BokehJS loaded, going straight to plotting\");\n",
       "    run_inline_js();\n",
       "  } else {\n",
       "    load_libs(js_urls, function() {\n",
       "      console.log(\"Bokeh: BokehJS plotting callback run at\", now());\n",
       "      run_inline_js();\n",
       "    });\n",
       "  }\n",
       "}(window));"
      ],
      "application/vnd.bokehjs_load.v0+json": "\n(function(root) {\n  function now() {\n    return new Date();\n  }\n\n  var force = true;\n\n  if (typeof (root._bokeh_onload_callbacks) === \"undefined\" || force === true) {\n    root._bokeh_onload_callbacks = [];\n    root._bokeh_is_loading = undefined;\n  }\n\n  \n\n  \n  if (typeof (root._bokeh_timeout) === \"undefined\" || force === true) {\n    root._bokeh_timeout = Date.now() + 5000;\n    root._bokeh_failed_load = false;\n  }\n\n  var NB_LOAD_WARNING = {'data': {'text/html':\n     \"<div style='background-color: #fdd'>\\n\"+\n     \"<p>\\n\"+\n     \"BokehJS does not appear to have successfully loaded. If loading BokehJS from CDN, this \\n\"+\n     \"may be due to a slow or bad network connection. Possible fixes:\\n\"+\n     \"</p>\\n\"+\n     \"<ul>\\n\"+\n     \"<li>re-rerun `output_notebook()` to attempt to load from CDN again, or</li>\\n\"+\n     \"<li>use INLINE resources instead, as so:</li>\\n\"+\n     \"</ul>\\n\"+\n     \"<code>\\n\"+\n     \"from bokeh.resources import INLINE\\n\"+\n     \"output_notebook(resources=INLINE)\\n\"+\n     \"</code>\\n\"+\n     \"</div>\"}};\n\n  function display_loaded() {\n    var el = document.getElementById(\"907a2e22-bf11-4a6e-acc3-37abaf1dac1a\");\n    if (el != null) {\n      el.textContent = \"BokehJS is loading...\";\n    }\n    if (root.Bokeh !== undefined) {\n      if (el != null) {\n        el.textContent = \"BokehJS \" + root.Bokeh.version + \" successfully loaded.\";\n      }\n    } else if (Date.now() < root._bokeh_timeout) {\n      setTimeout(display_loaded, 100)\n    }\n  }\n\n\n  function run_callbacks() {\n    try {\n      root._bokeh_onload_callbacks.forEach(function(callback) { callback() });\n    }\n    finally {\n      delete root._bokeh_onload_callbacks\n    }\n    console.info(\"Bokeh: all callbacks have finished\");\n  }\n\n  function load_libs(js_urls, callback) {\n    root._bokeh_onload_callbacks.push(callback);\n    if (root._bokeh_is_loading > 0) {\n      console.log(\"Bokeh: BokehJS is being loaded, scheduling callback at\", now());\n      return null;\n    }\n    if (js_urls == null || js_urls.length === 0) {\n      run_callbacks();\n      return null;\n    }\n    console.log(\"Bokeh: BokehJS not loaded, scheduling load and callback at\", now());\n    root._bokeh_is_loading = js_urls.length;\n    for (var i = 0; i < js_urls.length; i++) {\n      var url = js_urls[i];\n      var s = document.createElement('script');\n      s.src = url;\n      s.async = false;\n      s.onreadystatechange = s.onload = function() {\n        root._bokeh_is_loading--;\n        if (root._bokeh_is_loading === 0) {\n          console.log(\"Bokeh: all BokehJS libraries loaded\");\n          run_callbacks()\n        }\n      };\n      s.onerror = function() {\n        console.warn(\"failed to load library \" + url);\n      };\n      console.log(\"Bokeh: injecting script tag for BokehJS library: \", url);\n      document.getElementsByTagName(\"head\")[0].appendChild(s);\n    }\n  };var element = document.getElementById(\"907a2e22-bf11-4a6e-acc3-37abaf1dac1a\");\n  if (element == null) {\n    console.log(\"Bokeh: ERROR: autoload.js configured with elementid '907a2e22-bf11-4a6e-acc3-37abaf1dac1a' but no matching script tag was found. \")\n    return false;\n  }\n\n  var js_urls = [\"https://cdn.pydata.org/bokeh/release/bokeh-0.13.0.min.js\", \"https://cdn.pydata.org/bokeh/release/bokeh-widgets-0.13.0.min.js\", \"https://cdn.pydata.org/bokeh/release/bokeh-tables-0.13.0.min.js\", \"https://cdn.pydata.org/bokeh/release/bokeh-gl-0.13.0.min.js\"];\n\n  var inline_js = [\n    function(Bokeh) {\n      Bokeh.set_log_level(\"info\");\n    },\n    \n    function(Bokeh) {\n      \n    },\n    function(Bokeh) {\n      console.log(\"Bokeh: injecting CSS: https://cdn.pydata.org/bokeh/release/bokeh-0.13.0.min.css\");\n      Bokeh.embed.inject_css(\"https://cdn.pydata.org/bokeh/release/bokeh-0.13.0.min.css\");\n      console.log(\"Bokeh: injecting CSS: https://cdn.pydata.org/bokeh/release/bokeh-widgets-0.13.0.min.css\");\n      Bokeh.embed.inject_css(\"https://cdn.pydata.org/bokeh/release/bokeh-widgets-0.13.0.min.css\");\n      console.log(\"Bokeh: injecting CSS: https://cdn.pydata.org/bokeh/release/bokeh-tables-0.13.0.min.css\");\n      Bokeh.embed.inject_css(\"https://cdn.pydata.org/bokeh/release/bokeh-tables-0.13.0.min.css\");\n    }\n  ];\n\n  function run_inline_js() {\n    \n    if ((root.Bokeh !== undefined) || (force === true)) {\n      for (var i = 0; i < inline_js.length; i++) {\n        inline_js[i].call(root, root.Bokeh);\n      }if (force === true) {\n        display_loaded();\n      }} else if (Date.now() < root._bokeh_timeout) {\n      setTimeout(run_inline_js, 100);\n    } else if (!root._bokeh_failed_load) {\n      console.log(\"Bokeh: BokehJS failed to load within specified timeout.\");\n      root._bokeh_failed_load = true;\n    } else if (force !== true) {\n      var cell = $(document.getElementById(\"907a2e22-bf11-4a6e-acc3-37abaf1dac1a\")).parents('.cell').data().cell;\n      cell.output_area.append_execute_result(NB_LOAD_WARNING)\n    }\n\n  }\n\n  if (root._bokeh_is_loading === 0) {\n    console.log(\"Bokeh: BokehJS loaded, going straight to plotting\");\n    run_inline_js();\n  } else {\n    load_libs(js_urls, function() {\n      console.log(\"Bokeh: BokehJS plotting callback run at\", now());\n      run_inline_js();\n    });\n  }\n}(window));"
     },
     "metadata": {},
     "output_type": "display_data"
    }
   ],
   "source": [
    "import numpy as np\n",
    "from bokeh.plotting import figure, show\n",
    "from bokeh.io import output_notebook\n",
    "output_notebook()"
   ]
  },
  {
   "cell_type": "code",
   "execution_count": 2,
   "metadata": {},
   "outputs": [],
   "source": [
    "np.random.seed(4)\n",
    "practice_data_g0 = np.random.normal(loc=(5,-1),scale=(2,.5),size=(500,2))\n",
    "practice_data_g1 = np.random.normal(loc=(8,2),scale=(1,1),size=(100,2))\n",
    "practice_data = np.concatenate((practice_data_g0,practice_data_g1))\n",
    "\n",
    "x = practice_data[:,0]\n",
    "y = practice_data[:,1]\n",
    "# The last coordinage in [,,,] syntax is the 'smallest'. It steps through the final single axis array.\n",
    "#     e.g: (100,2) means 100 sets of 2 lenght arrays "
   ]
  },
  {
   "cell_type": "code",
   "execution_count": 3,
   "metadata": {},
   "outputs": [
    {
     "data": {
      "text/html": [
       "\n",
       "\n",
       "\n",
       "\n",
       "\n",
       "\n",
       "  <div class=\"bk-root\" id=\"9ec25a97-7512-48b4-b372-483635549e01\"></div>\n"
      ]
     },
     "metadata": {},
     "output_type": "display_data"
    },
    {
     "data": {
      "application/javascript": [
       "(function(root) {\n",
       "  function embed_document(root) {\n",
       "    \n",
       "  var docs_json = {\"7513cad1-b237-4873-83dc-c554200cb9d6\":{\"roots\":{\"references\":[{\"attributes\":{\"below\":[{\"id\":\"45c288f5-b49f-4a3d-beec-84b29bd42603\",\"type\":\"LinearAxis\"}],\"left\":[{\"id\":\"97d02e82-84e6-430f-98f9-74e64c2218b4\",\"type\":\"LinearAxis\"}],\"output_backend\":\"webgl\",\"plot_height\":300,\"plot_width\":300,\"renderers\":[{\"id\":\"45c288f5-b49f-4a3d-beec-84b29bd42603\",\"type\":\"LinearAxis\"},{\"id\":\"c8bfff97-f906-474c-99fc-740e2c706824\",\"type\":\"Grid\"},{\"id\":\"97d02e82-84e6-430f-98f9-74e64c2218b4\",\"type\":\"LinearAxis\"},{\"id\":\"934145ed-9283-4ebe-8717-f608e42bad47\",\"type\":\"Grid\"},{\"id\":\"fc68e9d9-b47f-4a85-8bb9-698507d283d3\",\"type\":\"BoxAnnotation\"},{\"id\":\"0340dd7b-3593-4c92-a938-f070313daf60\",\"type\":\"GlyphRenderer\"},{\"id\":\"e2127ec0-040b-4c1c-8c84-e22d8f65bd14\",\"type\":\"GlyphRenderer\"}],\"title\":{\"id\":\"f67f804c-814f-4aa2-b0e4-ee91632c3ef2\",\"type\":\"Title\"},\"toolbar\":{\"id\":\"4fa7ec39-ad26-4e1f-afaf-b1b01779165e\",\"type\":\"Toolbar\"},\"x_range\":{\"id\":\"45377331-749e-4dc0-a641-f61894efc01c\",\"type\":\"DataRange1d\"},\"x_scale\":{\"id\":\"9c400913-d462-422a-8b4d-f5c52be9b4f9\",\"type\":\"LinearScale\"},\"y_range\":{\"id\":\"24f30de1-618e-4d49-a81b-63b6136aba68\",\"type\":\"DataRange1d\"},\"y_scale\":{\"id\":\"efa738ca-7c01-4451-86df-d624b97bef23\",\"type\":\"LinearScale\"}},\"id\":\"d592d358-fea5-4b0c-be21-8052a222e17d\",\"subtype\":\"Figure\",\"type\":\"Plot\"},{\"attributes\":{},\"id\":\"e81aa9c7-c39f-4963-8877-45952e796cc4\",\"type\":\"UnionRenderers\"},{\"attributes\":{\"data_source\":{\"id\":\"8cf721ff-2405-411e-ab82-7642e87c7303\",\"type\":\"ColumnDataSource\"},\"glyph\":{\"id\":\"3f6d306c-7b80-4cb7-b3fc-5a7e03b68a1c\",\"type\":\"Circle\"},\"hover_glyph\":null,\"muted_glyph\":null,\"nonselection_glyph\":{\"id\":\"9bd52898-d9da-4baa-a91b-3a3460a3fffa\",\"type\":\"Circle\"},\"selection_glyph\":null,\"view\":{\"id\":\"c596c5d0-46d3-48f1-9c55-73641a35f947\",\"type\":\"CDSView\"}},\"id\":\"0340dd7b-3593-4c92-a938-f070313daf60\",\"type\":\"GlyphRenderer\"},{\"attributes\":{},\"id\":\"076d3b68-a200-48bb-ba04-ea05110b96ca\",\"type\":\"Selection\"},{\"attributes\":{},\"id\":\"efa738ca-7c01-4451-86df-d624b97bef23\",\"type\":\"LinearScale\"},{\"attributes\":{\"callback\":null,\"data\":{\"x\":{\"__ndarray__\":\"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\",\"dtype\":\"float64\",\"shape\":[600]},\"y\":{\"__ndarray__\":\"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\",\"dtype\":\"float64\",\"shape\":[600]}},\"selected\":{\"id\":\"076d3b68-a200-48bb-ba04-ea05110b96ca\",\"type\":\"Selection\"},\"selection_policy\":{\"id\":\"e81aa9c7-c39f-4963-8877-45952e796cc4\",\"type\":\"UnionRenderers\"}},\"id\":\"8cf721ff-2405-411e-ab82-7642e87c7303\",\"type\":\"ColumnDataSource\"},{\"attributes\":{\"callback\":null},\"id\":\"24f30de1-618e-4d49-a81b-63b6136aba68\",\"type\":\"DataRange1d\"},{\"attributes\":{},\"id\":\"9c400913-d462-422a-8b4d-f5c52be9b4f9\",\"type\":\"LinearScale\"},{\"attributes\":{\"active_drag\":\"auto\",\"active_inspect\":\"auto\",\"active_multi\":null,\"active_scroll\":\"auto\",\"active_tap\":\"auto\",\"tools\":[{\"id\":\"44414137-5d4a-4e67-8fa3-9c43ebd38583\",\"type\":\"PanTool\"},{\"id\":\"4271f713-9dc3-40b9-ae46-bf25166dda22\",\"type\":\"WheelZoomTool\"},{\"id\":\"1f1e1c90-4977-4b11-9785-c7fcac2741a9\",\"type\":\"BoxZoomTool\"},{\"id\":\"48f21951-687b-4250-b467-3a54fc2d77ca\",\"type\":\"SaveTool\"},{\"id\":\"e8da4dec-9a39-49cb-99de-82b50c5a3567\",\"type\":\"ResetTool\"},{\"id\":\"ffe34fc0-a312-4895-bf4b-38cf779af156\",\"type\":\"HelpTool\"}]},\"id\":\"4fa7ec39-ad26-4e1f-afaf-b1b01779165e\",\"type\":\"Toolbar\"},{\"attributes\":{\"callback\":null},\"id\":\"45377331-749e-4dc0-a641-f61894efc01c\",\"type\":\"DataRange1d\"},{\"attributes\":{},\"id\":\"beb95e89-84dd-4462-b4d3-0462f6097fbe\",\"type\":\"BasicTicker\"},{\"attributes\":{\"source\":{\"id\":\"8cf721ff-2405-411e-ab82-7642e87c7303\",\"type\":\"ColumnDataSource\"}},\"id\":\"c596c5d0-46d3-48f1-9c55-73641a35f947\",\"type\":\"CDSView\"},{\"attributes\":{\"plot\":{\"id\":\"d592d358-fea5-4b0c-be21-8052a222e17d\",\"subtype\":\"Figure\",\"type\":\"Plot\"},\"ticker\":{\"id\":\"beb95e89-84dd-4462-b4d3-0462f6097fbe\",\"type\":\"BasicTicker\"}},\"id\":\"c8bfff97-f906-474c-99fc-740e2c706824\",\"type\":\"Grid\"},{\"attributes\":{\"fill_alpha\":{\"value\":0.1},\"fill_color\":{\"value\":\"#1f77b4\"},\"line_alpha\":{\"value\":0.1},\"line_color\":{\"value\":\"#1f77b4\"},\"radius\":{\"units\":\"data\",\"value\":0.02},\"x\":{\"field\":\"x\"},\"y\":{\"field\":\"y\"}},\"id\":\"9bd52898-d9da-4baa-a91b-3a3460a3fffa\",\"type\":\"Circle\"},{\"attributes\":{\"formatter\":{\"id\":\"a6670df6-f26b-469f-83ff-0eaab166b91e\",\"type\":\"BasicTickFormatter\"},\"plot\":{\"id\":\"d592d358-fea5-4b0c-be21-8052a222e17d\",\"subtype\":\"Figure\",\"type\":\"Plot\"},\"ticker\":{\"id\":\"beb95e89-84dd-4462-b4d3-0462f6097fbe\",\"type\":\"BasicTicker\"}},\"id\":\"45c288f5-b49f-4a3d-beec-84b29bd42603\",\"type\":\"LinearAxis\"},{\"attributes\":{\"callback\":null,\"data\":{},\"selected\":{\"id\":\"285ea94c-edff-493b-bbce-542f1f874d50\",\"type\":\"Selection\"},\"selection_policy\":{\"id\":\"57c00831-8b40-4e8e-a5df-6fef2964bf61\",\"type\":\"UnionRenderers\"}},\"id\":\"9472645e-f7e9-4a61-bebe-2539d216cb9a\",\"type\":\"ColumnDataSource\"},{\"attributes\":{\"formatter\":{\"id\":\"ebf76e66-7b99-40b4-b473-165f9f9753ba\",\"type\":\"BasicTickFormatter\"},\"plot\":{\"id\":\"d592d358-fea5-4b0c-be21-8052a222e17d\",\"subtype\":\"Figure\",\"type\":\"Plot\"},\"ticker\":{\"id\":\"36ae3445-a141-4128-8fa0-d7d3eb67c84a\",\"type\":\"BasicTicker\"}},\"id\":\"97d02e82-84e6-430f-98f9-74e64c2218b4\",\"type\":\"LinearAxis\"},{\"attributes\":{},\"id\":\"36ae3445-a141-4128-8fa0-d7d3eb67c84a\",\"type\":\"BasicTicker\"},{\"attributes\":{\"dimension\":1,\"plot\":{\"id\":\"d592d358-fea5-4b0c-be21-8052a222e17d\",\"subtype\":\"Figure\",\"type\":\"Plot\"},\"ticker\":{\"id\":\"36ae3445-a141-4128-8fa0-d7d3eb67c84a\",\"type\":\"BasicTicker\"}},\"id\":\"934145ed-9283-4ebe-8717-f608e42bad47\",\"type\":\"Grid\"},{\"attributes\":{\"plot\":null,\"text\":\"\"},\"id\":\"f67f804c-814f-4aa2-b0e4-ee91632c3ef2\",\"type\":\"Title\"},{\"attributes\":{},\"id\":\"ebf76e66-7b99-40b4-b473-165f9f9753ba\",\"type\":\"BasicTickFormatter\"},{\"attributes\":{\"bottom_units\":\"screen\",\"fill_alpha\":{\"value\":0.5},\"fill_color\":{\"value\":\"lightgrey\"},\"left_units\":\"screen\",\"level\":\"overlay\",\"line_alpha\":{\"value\":1.0},\"line_color\":{\"value\":\"black\"},\"line_dash\":[4,4],\"line_width\":{\"value\":2},\"plot\":null,\"render_mode\":\"css\",\"right_units\":\"screen\",\"top_units\":\"screen\"},\"id\":\"fc68e9d9-b47f-4a85-8bb9-698507d283d3\",\"type\":\"BoxAnnotation\"},{\"attributes\":{},\"id\":\"44414137-5d4a-4e67-8fa3-9c43ebd38583\",\"type\":\"PanTool\"},{\"attributes\":{},\"id\":\"ffe34fc0-a312-4895-bf4b-38cf779af156\",\"type\":\"HelpTool\"},{\"attributes\":{\"overlay\":{\"id\":\"fc68e9d9-b47f-4a85-8bb9-698507d283d3\",\"type\":\"BoxAnnotation\"}},\"id\":\"1f1e1c90-4977-4b11-9785-c7fcac2741a9\",\"type\":\"BoxZoomTool\"},{\"attributes\":{},\"id\":\"4271f713-9dc3-40b9-ae46-bf25166dda22\",\"type\":\"WheelZoomTool\"},{\"attributes\":{},\"id\":\"48f21951-687b-4250-b467-3a54fc2d77ca\",\"type\":\"SaveTool\"},{\"attributes\":{},\"id\":\"e8da4dec-9a39-49cb-99de-82b50c5a3567\",\"type\":\"ResetTool\"},{\"attributes\":{\"bottom\":{\"value\":2},\"fill_alpha\":{\"value\":0.1},\"fill_color\":{\"value\":\"#1f77b4\"},\"left\":{\"value\":2},\"line_alpha\":{\"value\":0.1},\"line_color\":{\"value\":\"#1f77b4\"},\"right\":{\"value\":3},\"top\":{\"value\":4}},\"id\":\"d856c7c7-c005-41cc-8de7-ee0734b72323\",\"type\":\"Quad\"},{\"attributes\":{\"fill_color\":{\"value\":\"#1f77b4\"},\"line_color\":{\"value\":\"#1f77b4\"},\"radius\":{\"units\":\"data\",\"value\":0.02},\"x\":{\"field\":\"x\"},\"y\":{\"field\":\"y\"}},\"id\":\"3f6d306c-7b80-4cb7-b3fc-5a7e03b68a1c\",\"type\":\"Circle\"},{\"attributes\":{},\"id\":\"a6670df6-f26b-469f-83ff-0eaab166b91e\",\"type\":\"BasicTickFormatter\"},{\"attributes\":{\"bottom\":{\"value\":2},\"fill_color\":{\"value\":\"#1f77b4\"},\"left\":{\"value\":2},\"line_color\":{\"value\":\"#1f77b4\"},\"right\":{\"value\":3},\"top\":{\"value\":4}},\"id\":\"c6b98ab8-506d-4771-93d9-25d023921a6b\",\"type\":\"Quad\"},{\"attributes\":{\"data_source\":{\"id\":\"9472645e-f7e9-4a61-bebe-2539d216cb9a\",\"type\":\"ColumnDataSource\"},\"glyph\":{\"id\":\"c6b98ab8-506d-4771-93d9-25d023921a6b\",\"type\":\"Quad\"},\"hover_glyph\":null,\"muted_glyph\":null,\"nonselection_glyph\":{\"id\":\"d856c7c7-c005-41cc-8de7-ee0734b72323\",\"type\":\"Quad\"},\"selection_glyph\":null,\"view\":{\"id\":\"1581c274-6239-4707-8e9d-fe626fecf845\",\"type\":\"CDSView\"}},\"id\":\"e2127ec0-040b-4c1c-8c84-e22d8f65bd14\",\"type\":\"GlyphRenderer\"},{\"attributes\":{\"source\":{\"id\":\"9472645e-f7e9-4a61-bebe-2539d216cb9a\",\"type\":\"ColumnDataSource\"}},\"id\":\"1581c274-6239-4707-8e9d-fe626fecf845\",\"type\":\"CDSView\"},{\"attributes\":{},\"id\":\"285ea94c-edff-493b-bbce-542f1f874d50\",\"type\":\"Selection\"},{\"attributes\":{},\"id\":\"57c00831-8b40-4e8e-a5df-6fef2964bf61\",\"type\":\"UnionRenderers\"}],\"root_ids\":[\"d592d358-fea5-4b0c-be21-8052a222e17d\"]},\"title\":\"Bokeh Application\",\"version\":\"0.13.0\"}};\n",
       "  var render_items = [{\"docid\":\"7513cad1-b237-4873-83dc-c554200cb9d6\",\"roots\":{\"d592d358-fea5-4b0c-be21-8052a222e17d\":\"9ec25a97-7512-48b4-b372-483635549e01\"}}];\n",
       "  root.Bokeh.embed.embed_items_notebook(docs_json, render_items);\n",
       "\n",
       "  }\n",
       "  if (root.Bokeh !== undefined) {\n",
       "    embed_document(root);\n",
       "  } else {\n",
       "    var attempts = 0;\n",
       "    var timer = setInterval(function(root) {\n",
       "      if (root.Bokeh !== undefined) {\n",
       "        embed_document(root);\n",
       "        clearInterval(timer);\n",
       "      }\n",
       "      attempts++;\n",
       "      if (attempts > 100) {\n",
       "        console.log(\"Bokeh: ERROR: Unable to run BokehJS code because BokehJS library is missing\")\n",
       "        clearInterval(timer);\n",
       "      }\n",
       "    }, 10, root)\n",
       "  }\n",
       "})(window);"
      ],
      "application/vnd.bokehjs_exec.v0+json": ""
     },
     "metadata": {
      "application/vnd.bokehjs_exec.v0+json": {
       "id": "d592d358-fea5-4b0c-be21-8052a222e17d"
      }
     },
     "output_type": "display_data"
    }
   ],
   "source": [
    "p = figure(plot_width=300, plot_height=300, output_backend=\"webgl\")\n",
    "p.circle(x,y,radius=.02)\n",
    "p.quad(\n",
    "    left=2,\n",
    "    right=3,\n",
    "    bottom=2,\n",
    "    top=4,\n",
    ")\n",
    "show(p)"
   ]
  },
  {
   "cell_type": "code",
   "execution_count": 4,
   "metadata": {},
   "outputs": [],
   "source": [
    "H, edges = np.histogramdd(practice_data)\n",
    "# H: the first axies is the x axis, the second is the y axis \n",
    "# the first entry in edges is the x axis, the second is the y axis \n",
    "# print(edges)"
   ]
  },
  {
   "cell_type": "code",
   "execution_count": 5,
   "metadata": {},
   "outputs": [],
   "source": [
    "grid_spec = np.meshgrid(*edges)\n",
    "# the first axis specifies the x axis (this is consistant with coordinates so far)\n",
    "# print(grid_spec)"
   ]
  },
  {
   "cell_type": "code",
   "execution_count": 6,
   "metadata": {},
   "outputs": [],
   "source": [
    "l_bound_2d = grid_spec[0][:-1,:-1]\n",
    "r_bound_2d = grid_spec[0][:-1,1:]\n",
    "d_bound_2d = grid_spec[1][:-1,:-1]\n",
    "u_bound_2d = grid_spec[1][1:,:-1]\n",
    "# .flatten() runs through last axis in order of previous axis\n",
    "# must shave off last axis always (reduction required)\n",
    "\n",
    "l_bound = l_bound_2d.flatten()\n",
    "r_bound = r_bound_2d.flatten()\n",
    "d_bound = d_bound_2d.flatten()\n",
    "u_bound = u_bound_2d.flatten()\n",
    "\n"
   ]
  },
  {
   "cell_type": "code",
   "execution_count": 7,
   "metadata": {},
   "outputs": [],
   "source": [
    "alpha = H.flatten('F')/H.max()\n",
    "# Naturally, flatten tries to concatenate the final axis recursivel ('C' argument).\n",
    "#     This would count through the y axis before iterating the x axis\n",
    "# The _bound arrays work the opposite way, counting through the x axis first before the y axis may be iterated.\n",
    "# Thus it is imporant to flip the flattening axis order with the 'F' argument"
   ]
  },
  {
   "cell_type": "code",
   "execution_count": 8,
   "metadata": {},
   "outputs": [
    {
     "data": {
      "text/html": [
       "\n",
       "\n",
       "\n",
       "\n",
       "\n",
       "\n",
       "  <div class=\"bk-root\" id=\"a6f7fdc9-bc1a-48fe-920e-c55089f32d02\"></div>\n"
      ]
     },
     "metadata": {},
     "output_type": "display_data"
    },
    {
     "data": {
      "application/javascript": [
       "(function(root) {\n",
       "  function embed_document(root) {\n",
       "    \n",
       "  var docs_json = {\"f62fea36-7df1-4399-b0c5-ceca6f5b3c36\":{\"roots\":{\"references\":[{\"attributes\":{\"dimension\":1,\"plot\":{\"id\":\"cf497d66-0484-4d20-8ebc-c1d8d0bc7585\",\"subtype\":\"Figure\",\"type\":\"Plot\"},\"ticker\":{\"id\":\"eaedd39b-c537-4ef3-81b2-d1d27e38227d\",\"type\":\"BasicTicker\"}},\"id\":\"6cb6d81d-4103-4a27-818c-a95f417d3564\",\"type\":\"Grid\"},{\"attributes\":{},\"id\":\"eaedd39b-c537-4ef3-81b2-d1d27e38227d\",\"type\":\"BasicTicker\"},{\"attributes\":{\"callback\":null,\"data\":{\"bottom\":{\"__ndarray__\":\"DElVUWqIA8AMSVVRaogDwAxJVVFqiAPADElVUWqIA8AMSVVRaogDwAxJVVFqiAPADElVUWqIA8AMSVVRaogDwAxJVVFqiAPADElVUWqIA8Benudz2PH6v16e53PY8fq/Xp7nc9jx+r9enudz2PH6v16e53PY8fq/Xp7nc9jx+r9enudz2PH6v16e53PY8fq/Xp7nc9jx+r9enudz2PH6v0hVSYq4pe2/SFVJiril7b9IVUmKuKXtv0hVSYq4pe2/SFVJiril7b9IVUmKuKXtv0hVSYq4pe2/SFVJiril7b9IVUmKuKXtv0hVSYq4pe2/ULcNswCfxb9Qtw2zAJ/Fv1C3DbMAn8W/ULcNswCfxb9Qtw2zAJ/Fv1C3DbMAn8W/ULcNswCfxb9Qtw2zAJ/Fv1C3DbMAn8W/ULcNswCfxb+gecIwONbiP6B5wjA41uI/oHnCMDjW4j+gecIwONbiP6B5wjA41uI/oHnCMDjW4j+gecIwONbiP6B5wjA41uI/oHnCMDjW4j+gecIwONbiP4owJEcYivU/ijAkRxiK9T+KMCRHGIr1P4owJEcYivU/ijAkRxiK9T+KMCRHGIr1P4owJEcYivU/ijAkRxiK9T+KMCRHGIr1P4owJEcYivU/IpLzOorUAEAikvM6itQAQCKS8zqK1ABAIpLzOorUAEAikvM6itQAQCKS8zqK1ABAIpLzOorUAEAikvM6itQAQCKS8zqK1ABAIpLzOorUAEAADFVSCOQGQAAMVVII5AZAAAxVUgjkBkAADFVSCOQGQAAMVVII5AZAAAxVUgjkBkAADFVSCOQGQAAMVVII5AZAAAxVUgjkBkAADFVSCOQGQNyFtmmG8wxA3IW2aYbzDEDchbZphvMMQNyFtmmG8wxA3IW2aYbzDEDchbZphvMMQNyFtmmG8wxA3IW2aYbzDEDchbZphvMMQNyFtmmG8wxA3P+LQIKBEUDc/4tAgoERQNz/i0CCgRFA3P+LQIKBEUDc/4tAgoERQNz/i0CCgRFA3P+LQIKBEUDc/4tAgoERQNz/i0CCgRFA3P+LQIKBEUA=\",\"dtype\":\"float64\",\"shape\":[100]},\"left\":{\"__ndarray__\":\"eL+XThpt4r8Sc6npvu7hP85S9RBMJfs/CvaKVpypBkCsQpukksAPQKfHVXnEaxRA+e1doD/3GEBKFGbHuoIdQE4dN/caByFAdjC7ithMI0B4v5dOGm3ivxJzqem+7uE/zlL1EEwl+z8K9opWnKkGQKxCm6SSwA9Ap8dVecRrFED57V2gP/cYQEoUZse6gh1ATh039xoHIUB2MLuK2EwjQHi/l04abeK/EnOp6b7u4T/OUvUQTCX7Pwr2ilacqQZArEKbpJLAD0Cnx1V5xGsUQPntXaA/9xhAShRmx7qCHUBOHTf3GgchQHYwu4rYTCNAeL+XThpt4r8Sc6npvu7hP85S9RBMJfs/CvaKVpypBkCsQpukksAPQKfHVXnEaxRA+e1doD/3GEBKFGbHuoIdQE4dN/caByFAdjC7ithMI0B4v5dOGm3ivxJzqem+7uE/zlL1EEwl+z8K9opWnKkGQKxCm6SSwA9Ap8dVecRrFED57V2gP/cYQEoUZse6gh1ATh039xoHIUB2MLuK2EwjQHi/l04abeK/EnOp6b7u4T/OUvUQTCX7Pwr2ilacqQZArEKbpJLAD0Cnx1V5xGsUQPntXaA/9xhAShRmx7qCHUBOHTf3GgchQHYwu4rYTCNAeL+XThpt4r8Sc6npvu7hP85S9RBMJfs/CvaKVpypBkCsQpukksAPQKfHVXnEaxRA+e1doD/3GEBKFGbHuoIdQE4dN/caByFAdjC7ithMI0B4v5dOGm3ivxJzqem+7uE/zlL1EEwl+z8K9opWnKkGQKxCm6SSwA9Ap8dVecRrFED57V2gP/cYQEoUZse6gh1ATh039xoHIUB2MLuK2EwjQHi/l04abeK/EnOp6b7u4T/OUvUQTCX7Pwr2ilacqQZArEKbpJLAD0Cnx1V5xGsUQPntXaA/9xhAShRmx7qCHUBOHTf3GgchQHYwu4rYTCNAeL+XThpt4r8Sc6npvu7hP85S9RBMJfs/CvaKVpypBkCsQpukksAPQKfHVXnEaxRA+e1doD/3GEBKFGbHuoIdQE4dN/caByFAdjC7ithMI0A=\",\"dtype\":\"float64\",\"shape\":[100]},\"right\":{\"__ndarray__\":\"EnOp6b7u4T/OUvUQTCX7Pwr2ilacqQZArEKbpJLAD0Cnx1V5xGsUQPntXaA/9xhAShRmx7qCHUBOHTf3GgchQHYwu4rYTCNAn0M/HpaSJUASc6npvu7hP85S9RBMJfs/CvaKVpypBkCsQpukksAPQKfHVXnEaxRA+e1doD/3GEBKFGbHuoIdQE4dN/caByFAdjC7ithMI0CfQz8elpIlQBJzqem+7uE/zlL1EEwl+z8K9opWnKkGQKxCm6SSwA9Ap8dVecRrFED57V2gP/cYQEoUZse6gh1ATh039xoHIUB2MLuK2EwjQJ9DPx6WkiVAEnOp6b7u4T/OUvUQTCX7Pwr2ilacqQZArEKbpJLAD0Cnx1V5xGsUQPntXaA/9xhAShRmx7qCHUBOHTf3GgchQHYwu4rYTCNAn0M/HpaSJUASc6npvu7hP85S9RBMJfs/CvaKVpypBkCsQpukksAPQKfHVXnEaxRA+e1doD/3GEBKFGbHuoIdQE4dN/caByFAdjC7ithMI0CfQz8elpIlQBJzqem+7uE/zlL1EEwl+z8K9opWnKkGQKxCm6SSwA9Ap8dVecRrFED57V2gP/cYQEoUZse6gh1ATh039xoHIUB2MLuK2EwjQJ9DPx6WkiVAEnOp6b7u4T/OUvUQTCX7Pwr2ilacqQZArEKbpJLAD0Cnx1V5xGsUQPntXaA/9xhAShRmx7qCHUBOHTf3GgchQHYwu4rYTCNAn0M/HpaSJUASc6npvu7hP85S9RBMJfs/CvaKVpypBkCsQpukksAPQKfHVXnEaxRA+e1doD/3GEBKFGbHuoIdQE4dN/caByFAdjC7ithMI0CfQz8elpIlQBJzqem+7uE/zlL1EEwl+z8K9opWnKkGQKxCm6SSwA9Ap8dVecRrFED57V2gP/cYQEoUZse6gh1ATh039xoHIUB2MLuK2EwjQJ9DPx6WkiVAEnOp6b7u4T/OUvUQTCX7Pwr2ilacqQZArEKbpJLAD0Cnx1V5xGsUQPntXaA/9xhAShRmx7qCHUBOHTf3GgchQHYwu4rYTCNAn0M/HpaSJUA=\",\"dtype\":\"float64\",\"shape\":[100]},\"top\":{\"__ndarray__\":\"Xp7nc9jx+r9enudz2PH6v16e53PY8fq/Xp7nc9jx+r9enudz2PH6v16e53PY8fq/Xp7nc9jx+r9enudz2PH6v16e53PY8fq/Xp7nc9jx+r9IVUmKuKXtv0hVSYq4pe2/SFVJiril7b9IVUmKuKXtv0hVSYq4pe2/SFVJiril7b9IVUmKuKXtv0hVSYq4pe2/SFVJiril7b9IVUmKuKXtv1C3DbMAn8W/ULcNswCfxb9Qtw2zAJ/Fv1C3DbMAn8W/ULcNswCfxb9Qtw2zAJ/Fv1C3DbMAn8W/ULcNswCfxb9Qtw2zAJ/Fv1C3DbMAn8W/oHnCMDjW4j+gecIwONbiP6B5wjA41uI/oHnCMDjW4j+gecIwONbiP6B5wjA41uI/oHnCMDjW4j+gecIwONbiP6B5wjA41uI/oHnCMDjW4j+KMCRHGIr1P4owJEcYivU/ijAkRxiK9T+KMCRHGIr1P4owJEcYivU/ijAkRxiK9T+KMCRHGIr1P4owJEcYivU/ijAkRxiK9T+KMCRHGIr1PyKS8zqK1ABAIpLzOorUAEAikvM6itQAQCKS8zqK1ABAIpLzOorUAEAikvM6itQAQCKS8zqK1ABAIpLzOorUAEAikvM6itQAQCKS8zqK1ABAAAxVUgjkBkAADFVSCOQGQAAMVVII5AZAAAxVUgjkBkAADFVSCOQGQAAMVVII5AZAAAxVUgjkBkAADFVSCOQGQAAMVVII5AZAAAxVUgjkBkDchbZphvMMQNyFtmmG8wxA3IW2aYbzDEDchbZphvMMQNyFtmmG8wxA3IW2aYbzDEDchbZphvMMQNyFtmmG8wxA3IW2aYbzDEDchbZphvMMQNz/i0CCgRFA3P+LQIKBEUDc/4tAgoERQNz/i0CCgRFA3P+LQIKBEUDc/4tAgoERQNz/i0CCgRFA3P+LQIKBEUDc/4tAgoERQNz/i0CCgRFAy7w8TEGJFEDLvDxMQYkUQMu8PExBiRRAy7w8TEGJFEDLvDxMQYkUQMu8PExBiRRAy7w8TEGJFEDLvDxMQYkUQMu8PExBiRRAy7w8TEGJFEA=\",\"dtype\":\"float64\",\"shape\":[100]}},\"selected\":{\"id\":\"2c13758d-faca-4f26-91ec-176a36857630\",\"type\":\"Selection\"},\"selection_policy\":{\"id\":\"981c539d-1701-489d-a526-a951ca19b203\",\"type\":\"UnionRenderers\"}},\"id\":\"78c60773-b211-444e-9b30-f4236cb19d5e\",\"type\":\"ColumnDataSource\"},{\"attributes\":{\"overlay\":{\"id\":\"172096d2-45e7-4a17-b931-c97fd34c3e37\",\"type\":\"BoxAnnotation\"}},\"id\":\"15af96bf-9253-4abc-81b1-c349ab135d61\",\"type\":\"BoxZoomTool\"},{\"attributes\":{},\"id\":\"91310b5f-5bc8-4de9-89fc-1e863fd13d10\",\"type\":\"WheelZoomTool\"},{\"attributes\":{\"source\":{\"id\":\"6dd6774e-a1f2-4eb3-b4d0-36a7482ece14\",\"type\":\"ColumnDataSource\"}},\"id\":\"5951aa57-5821-4f9a-8040-1e82d1403d66\",\"type\":\"CDSView\"},{\"attributes\":{},\"id\":\"be1aaca2-a63b-44ca-8989-60fbea168e00\",\"type\":\"PanTool\"},{\"attributes\":{\"plot\":{\"id\":\"cf497d66-0484-4d20-8ebc-c1d8d0bc7585\",\"subtype\":\"Figure\",\"type\":\"Plot\"},\"ticker\":{\"id\":\"f4f7ee12-e501-48b5-945b-c7e191c115d6\",\"type\":\"BasicTicker\"}},\"id\":\"540552c7-02fc-4fa4-94d0-e8f5d3c816d1\",\"type\":\"Grid\"},{\"attributes\":{\"plot\":null,\"text\":\"\"},\"id\":\"df3c3354-bf86-4d59-856e-78d80aa2ffcc\",\"type\":\"Title\"},{\"attributes\":{},\"id\":\"82109b56-c04a-49ae-9adf-b11533a609d0\",\"type\":\"Selection\"},{\"attributes\":{},\"id\":\"f4f7ee12-e501-48b5-945b-c7e191c115d6\",\"type\":\"BasicTicker\"},{\"attributes\":{\"data_source\":{\"id\":\"6dd6774e-a1f2-4eb3-b4d0-36a7482ece14\",\"type\":\"ColumnDataSource\"},\"glyph\":{\"id\":\"31b6df03-0e33-46ef-9ce2-1eab59efccb1\",\"type\":\"Circle\"},\"hover_glyph\":null,\"muted_glyph\":null,\"nonselection_glyph\":{\"id\":\"db8276b4-911e-4b30-829d-d6737c70c37f\",\"type\":\"Circle\"},\"selection_glyph\":null,\"view\":{\"id\":\"5951aa57-5821-4f9a-8040-1e82d1403d66\",\"type\":\"CDSView\"}},\"id\":\"f7c765a6-97bb-4453-abdb-089b69f0d740\",\"type\":\"GlyphRenderer\"},{\"attributes\":{\"below\":[{\"id\":\"5ed07a4b-21af-4341-b7bc-94b704abf030\",\"type\":\"LinearAxis\"}],\"left\":[{\"id\":\"710e90b8-4c2a-477c-a0dc-5ef2cdfa4a5a\",\"type\":\"LinearAxis\"}],\"plot_height\":300,\"plot_width\":300,\"renderers\":[{\"id\":\"5ed07a4b-21af-4341-b7bc-94b704abf030\",\"type\":\"LinearAxis\"},{\"id\":\"540552c7-02fc-4fa4-94d0-e8f5d3c816d1\",\"type\":\"Grid\"},{\"id\":\"710e90b8-4c2a-477c-a0dc-5ef2cdfa4a5a\",\"type\":\"LinearAxis\"},{\"id\":\"6cb6d81d-4103-4a27-818c-a95f417d3564\",\"type\":\"Grid\"},{\"id\":\"172096d2-45e7-4a17-b931-c97fd34c3e37\",\"type\":\"BoxAnnotation\"},{\"id\":\"f7c765a6-97bb-4453-abdb-089b69f0d740\",\"type\":\"GlyphRenderer\"},{\"id\":\"707c02cc-27fb-4dce-b7cb-90fe887cb8c9\",\"type\":\"GlyphRenderer\"}],\"title\":{\"id\":\"df3c3354-bf86-4d59-856e-78d80aa2ffcc\",\"type\":\"Title\"},\"toolbar\":{\"id\":\"b94b3402-5d69-4aa5-88fa-8359fa2e48a8\",\"type\":\"Toolbar\"},\"x_range\":{\"id\":\"12a7f9f8-933c-4ca1-9ec7-6ddc6ee7b61e\",\"type\":\"DataRange1d\"},\"x_scale\":{\"id\":\"0c3ca4bc-a447-4384-8dfb-767c44c30629\",\"type\":\"LinearScale\"},\"y_range\":{\"id\":\"5c7c0539-17a0-4da0-8cd7-8ce678438b0e\",\"type\":\"DataRange1d\"},\"y_scale\":{\"id\":\"b326fdeb-96c4-4b1d-b0f3-96e502f1d783\",\"type\":\"LinearScale\"}},\"id\":\"cf497d66-0484-4d20-8ebc-c1d8d0bc7585\",\"subtype\":\"Figure\",\"type\":\"Plot\"},{\"attributes\":{\"data_source\":{\"id\":\"78c60773-b211-444e-9b30-f4236cb19d5e\",\"type\":\"ColumnDataSource\"},\"glyph\":{\"id\":\"71e03c9b-c90d-4ee9-8501-fb7fb24279ed\",\"type\":\"Quad\"},\"hover_glyph\":null,\"muted_glyph\":null,\"nonselection_glyph\":{\"id\":\"13927ae4-6dc5-4e98-a3c1-8ae80b66079f\",\"type\":\"Quad\"},\"selection_glyph\":null,\"view\":{\"id\":\"3e8314a8-6688-4b98-b896-9f6ddff5d834\",\"type\":\"CDSView\"}},\"id\":\"707c02cc-27fb-4dce-b7cb-90fe887cb8c9\",\"type\":\"GlyphRenderer\"},{\"attributes\":{},\"id\":\"aac362af-c676-4846-8b73-e32d2e19e7da\",\"type\":\"SaveTool\"},{\"attributes\":{\"source\":{\"id\":\"78c60773-b211-444e-9b30-f4236cb19d5e\",\"type\":\"ColumnDataSource\"}},\"id\":\"3e8314a8-6688-4b98-b896-9f6ddff5d834\",\"type\":\"CDSView\"},{\"attributes\":{\"fill_color\":{\"value\":\"#1f77b4\"},\"line_color\":{\"value\":\"#1f77b4\"},\"radius\":{\"units\":\"data\",\"value\":0.02},\"x\":{\"field\":\"x\"},\"y\":{\"field\":\"y\"}},\"id\":\"31b6df03-0e33-46ef-9ce2-1eab59efccb1\",\"type\":\"Circle\"},{\"attributes\":{\"bottom_units\":\"screen\",\"fill_alpha\":{\"value\":0.5},\"fill_color\":{\"value\":\"lightgrey\"},\"left_units\":\"screen\",\"level\":\"overlay\",\"line_alpha\":{\"value\":1.0},\"line_color\":{\"value\":\"black\"},\"line_dash\":[4,4],\"line_width\":{\"value\":2},\"plot\":null,\"render_mode\":\"css\",\"right_units\":\"screen\",\"top_units\":\"screen\"},\"id\":\"172096d2-45e7-4a17-b931-c97fd34c3e37\",\"type\":\"BoxAnnotation\"},{\"attributes\":{\"bottom\":{\"field\":\"bottom\"},\"fill_alpha\":{\"value\":0.1},\"fill_color\":{\"value\":\"#1f77b4\"},\"left\":{\"field\":\"left\"},\"line_alpha\":{\"value\":0.1},\"line_color\":{\"value\":\"#1f77b4\"},\"right\":{\"field\":\"right\"},\"top\":{\"field\":\"top\"}},\"id\":\"13927ae4-6dc5-4e98-a3c1-8ae80b66079f\",\"type\":\"Quad\"},{\"attributes\":{},\"id\":\"e210301d-afaa-4523-9076-b3017dadc062\",\"type\":\"HelpTool\"},{\"attributes\":{},\"id\":\"fcf21075-e740-47bc-9cac-de17a9103043\",\"type\":\"ResetTool\"},{\"attributes\":{},\"id\":\"a4bc21fb-4dac-40d4-9fe6-104002bbdd9e\",\"type\":\"BasicTickFormatter\"},{\"attributes\":{},\"id\":\"981c539d-1701-489d-a526-a951ca19b203\",\"type\":\"UnionRenderers\"},{\"attributes\":{},\"id\":\"2c13758d-faca-4f26-91ec-176a36857630\",\"type\":\"Selection\"},{\"attributes\":{\"active_drag\":\"auto\",\"active_inspect\":\"auto\",\"active_multi\":null,\"active_scroll\":\"auto\",\"active_tap\":\"auto\",\"tools\":[{\"id\":\"be1aaca2-a63b-44ca-8989-60fbea168e00\",\"type\":\"PanTool\"},{\"id\":\"91310b5f-5bc8-4de9-89fc-1e863fd13d10\",\"type\":\"WheelZoomTool\"},{\"id\":\"15af96bf-9253-4abc-81b1-c349ab135d61\",\"type\":\"BoxZoomTool\"},{\"id\":\"aac362af-c676-4846-8b73-e32d2e19e7da\",\"type\":\"SaveTool\"},{\"id\":\"fcf21075-e740-47bc-9cac-de17a9103043\",\"type\":\"ResetTool\"},{\"id\":\"e210301d-afaa-4523-9076-b3017dadc062\",\"type\":\"HelpTool\"}]},\"id\":\"b94b3402-5d69-4aa5-88fa-8359fa2e48a8\",\"type\":\"Toolbar\"},{\"attributes\":{},\"id\":\"a566f62f-4564-412c-aa45-470c426a06d6\",\"type\":\"UnionRenderers\"},{\"attributes\":{},\"id\":\"95edb96c-8123-41b0-bee9-389b414c7df8\",\"type\":\"BasicTickFormatter\"},{\"attributes\":{\"callback\":null},\"id\":\"5c7c0539-17a0-4da0-8cd7-8ce678438b0e\",\"type\":\"DataRange1d\"},{\"attributes\":{\"bottom\":{\"field\":\"bottom\"},\"fill_alpha\":{\"value\":0.1},\"fill_color\":{\"value\":\"green\"},\"left\":{\"field\":\"left\"},\"right\":{\"field\":\"right\"},\"top\":{\"field\":\"top\"}},\"id\":\"71e03c9b-c90d-4ee9-8501-fb7fb24279ed\",\"type\":\"Quad\"},{\"attributes\":{\"callback\":null},\"id\":\"12a7f9f8-933c-4ca1-9ec7-6ddc6ee7b61e\",\"type\":\"DataRange1d\"},{\"attributes\":{\"formatter\":{\"id\":\"95edb96c-8123-41b0-bee9-389b414c7df8\",\"type\":\"BasicTickFormatter\"},\"plot\":{\"id\":\"cf497d66-0484-4d20-8ebc-c1d8d0bc7585\",\"subtype\":\"Figure\",\"type\":\"Plot\"},\"ticker\":{\"id\":\"eaedd39b-c537-4ef3-81b2-d1d27e38227d\",\"type\":\"BasicTicker\"}},\"id\":\"710e90b8-4c2a-477c-a0dc-5ef2cdfa4a5a\",\"type\":\"LinearAxis\"},{\"attributes\":{\"fill_alpha\":{\"value\":0.1},\"fill_color\":{\"value\":\"#1f77b4\"},\"line_alpha\":{\"value\":0.1},\"line_color\":{\"value\":\"#1f77b4\"},\"radius\":{\"units\":\"data\",\"value\":0.02},\"x\":{\"field\":\"x\"},\"y\":{\"field\":\"y\"}},\"id\":\"db8276b4-911e-4b30-829d-d6737c70c37f\",\"type\":\"Circle\"},{\"attributes\":{\"callback\":null,\"data\":{\"x\":{\"__ndarray__\":\"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\",\"dtype\":\"float64\",\"shape\":[600]},\"y\":{\"__ndarray__\":\"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\",\"dtype\":\"float64\",\"shape\":[600]}},\"selected\":{\"id\":\"82109b56-c04a-49ae-9adf-b11533a609d0\",\"type\":\"Selection\"},\"selection_policy\":{\"id\":\"a566f62f-4564-412c-aa45-470c426a06d6\",\"type\":\"UnionRenderers\"}},\"id\":\"6dd6774e-a1f2-4eb3-b4d0-36a7482ece14\",\"type\":\"ColumnDataSource\"},{\"attributes\":{},\"id\":\"0c3ca4bc-a447-4384-8dfb-767c44c30629\",\"type\":\"LinearScale\"},{\"attributes\":{\"formatter\":{\"id\":\"a4bc21fb-4dac-40d4-9fe6-104002bbdd9e\",\"type\":\"BasicTickFormatter\"},\"plot\":{\"id\":\"cf497d66-0484-4d20-8ebc-c1d8d0bc7585\",\"subtype\":\"Figure\",\"type\":\"Plot\"},\"ticker\":{\"id\":\"f4f7ee12-e501-48b5-945b-c7e191c115d6\",\"type\":\"BasicTicker\"}},\"id\":\"5ed07a4b-21af-4341-b7bc-94b704abf030\",\"type\":\"LinearAxis\"},{\"attributes\":{},\"id\":\"b326fdeb-96c4-4b1d-b0f3-96e502f1d783\",\"type\":\"LinearScale\"}],\"root_ids\":[\"cf497d66-0484-4d20-8ebc-c1d8d0bc7585\"]},\"title\":\"Bokeh Application\",\"version\":\"0.13.0\"}};\n",
       "  var render_items = [{\"docid\":\"f62fea36-7df1-4399-b0c5-ceca6f5b3c36\",\"roots\":{\"cf497d66-0484-4d20-8ebc-c1d8d0bc7585\":\"a6f7fdc9-bc1a-48fe-920e-c55089f32d02\"}}];\n",
       "  root.Bokeh.embed.embed_items_notebook(docs_json, render_items);\n",
       "\n",
       "  }\n",
       "  if (root.Bokeh !== undefined) {\n",
       "    embed_document(root);\n",
       "  } else {\n",
       "    var attempts = 0;\n",
       "    var timer = setInterval(function(root) {\n",
       "      if (root.Bokeh !== undefined) {\n",
       "        embed_document(root);\n",
       "        clearInterval(timer);\n",
       "      }\n",
       "      attempts++;\n",
       "      if (attempts > 100) {\n",
       "        console.log(\"Bokeh: ERROR: Unable to run BokehJS code because BokehJS library is missing\")\n",
       "        clearInterval(timer);\n",
       "      }\n",
       "    }, 10, root)\n",
       "  }\n",
       "})(window);"
      ],
      "application/vnd.bokehjs_exec.v0+json": ""
     },
     "metadata": {
      "application/vnd.bokehjs_exec.v0+json": {
       "id": "cf497d66-0484-4d20-8ebc-c1d8d0bc7585"
      }
     },
     "output_type": "display_data"
    }
   ],
   "source": [
    "l = figure(plot_width=300,plot_height=300)\n",
    "l.circle(x,y,radius=.02)\n",
    "l.quad(\n",
    "    left=l_bound,\n",
    "    right=r_bound,\n",
    "    bottom=d_bound,\n",
    "    top=u_bound,\n",
    "    line_color='black',\n",
    "    fill_color='green',\n",
    "    fill_alpha=.1\n",
    ")\n",
    "show(l)"
   ]
  },
  {
   "cell_type": "code",
   "execution_count": 9,
   "metadata": {},
   "outputs": [
    {
     "data": {
      "text/html": [
       "\n",
       "\n",
       "\n",
       "\n",
       "\n",
       "\n",
       "  <div class=\"bk-root\" id=\"3c4f5c9b-3ad3-406f-aa4f-334c9be7766e\"></div>\n"
      ]
     },
     "metadata": {},
     "output_type": "display_data"
    },
    {
     "data": {
      "application/javascript": [
       "(function(root) {\n",
       "  function embed_document(root) {\n",
       "    \n",
       "  var docs_json = {\"cba66b38-564b-468e-9f03-c097335dfee5\":{\"roots\":{\"references\":[{\"attributes\":{\"plot\":null,\"text\":\"\"},\"id\":\"386ab86a-7d5d-487a-a3db-cc65b6104f50\",\"type\":\"Title\"},{\"attributes\":{},\"id\":\"9865b76b-7144-4542-ae42-280b590becb9\",\"type\":\"BasicTickFormatter\"},{\"attributes\":{\"below\":[{\"id\":\"f0e237d7-2929-4b80-95e0-79ac2471fd02\",\"type\":\"LinearAxis\"}],\"left\":[{\"id\":\"2efec4e4-1a80-4d61-a767-ffd53fe52551\",\"type\":\"LinearAxis\"}],\"plot_height\":300,\"plot_width\":300,\"renderers\":[{\"id\":\"f0e237d7-2929-4b80-95e0-79ac2471fd02\",\"type\":\"LinearAxis\"},{\"id\":\"d65268c2-bf0a-4912-9ad5-09b48a7d9931\",\"type\":\"Grid\"},{\"id\":\"2efec4e4-1a80-4d61-a767-ffd53fe52551\",\"type\":\"LinearAxis\"},{\"id\":\"85eaa1f6-f0d2-4877-b9da-734d0da44adc\",\"type\":\"Grid\"},{\"id\":\"d3bf66bb-27c4-4b49-a6fc-b79266abe1de\",\"type\":\"BoxAnnotation\"},{\"id\":\"5de16129-a7bc-4a55-a6d2-ec6217a0332a\",\"type\":\"GlyphRenderer\"},{\"id\":\"d648416e-b058-44cd-b41e-9ffd69b32c47\",\"type\":\"GlyphRenderer\"}],\"title\":{\"id\":\"386ab86a-7d5d-487a-a3db-cc65b6104f50\",\"type\":\"Title\"},\"toolbar\":{\"id\":\"a76fb76e-5e0f-4522-a807-066b1a17786c\",\"type\":\"Toolbar\"},\"x_range\":{\"id\":\"64782420-20db-422e-a240-ae9414bd40d2\",\"type\":\"DataRange1d\"},\"x_scale\":{\"id\":\"f70fff16-843a-490c-87cc-b7cd865ccc70\",\"type\":\"LinearScale\"},\"y_range\":{\"id\":\"9aea3314-3a16-4b4f-86d9-e0386a1106d8\",\"type\":\"DataRange1d\"},\"y_scale\":{\"id\":\"7418649f-52f9-4665-b1a0-8d71ff47fd52\",\"type\":\"LinearScale\"}},\"id\":\"41764fbf-7975-410d-8345-75fd1a5867ca\",\"subtype\":\"Figure\",\"type\":\"Plot\"},{\"attributes\":{},\"id\":\"fcb186aa-b2c0-4bb7-828f-457fccb1aea3\",\"type\":\"Selection\"},{\"attributes\":{},\"id\":\"40bd7171-1c39-44ca-b0ed-1145ba79ed13\",\"type\":\"BasicTickFormatter\"},{\"attributes\":{},\"id\":\"faaa04b4-768d-4564-91a2-21e71243683b\",\"type\":\"SaveTool\"},{\"attributes\":{},\"id\":\"bf402872-ea0a-40a2-8e4f-e0437385bcce\",\"type\":\"UnionRenderers\"},{\"attributes\":{\"callback\":null,\"data\":{\"bottom\":{\"__ndarray__\":\"DElVUWqIA8AMSVVRaogDwAxJVVFqiAPADElVUWqIA8AMSVVRaogDwAxJVVFqiAPADElVUWqIA8AMSVVRaogDwAxJVVFqiAPADElVUWqIA8Benudz2PH6v16e53PY8fq/Xp7nc9jx+r9enudz2PH6v16e53PY8fq/Xp7nc9jx+r9enudz2PH6v16e53PY8fq/Xp7nc9jx+r9enudz2PH6v0hVSYq4pe2/SFVJiril7b9IVUmKuKXtv0hVSYq4pe2/SFVJiril7b9IVUmKuKXtv0hVSYq4pe2/SFVJiril7b9IVUmKuKXtv0hVSYq4pe2/ULcNswCfxb9Qtw2zAJ/Fv1C3DbMAn8W/ULcNswCfxb9Qtw2zAJ/Fv1C3DbMAn8W/ULcNswCfxb9Qtw2zAJ/Fv1C3DbMAn8W/ULcNswCfxb+gecIwONbiP6B5wjA41uI/oHnCMDjW4j+gecIwONbiP6B5wjA41uI/oHnCMDjW4j+gecIwONbiP6B5wjA41uI/oHnCMDjW4j+gecIwONbiP4owJEcYivU/ijAkRxiK9T+KMCRHGIr1P4owJEcYivU/ijAkRxiK9T+KMCRHGIr1P4owJEcYivU/ijAkRxiK9T+KMCRHGIr1P4owJEcYivU/IpLzOorUAEAikvM6itQAQCKS8zqK1ABAIpLzOorUAEAikvM6itQAQCKS8zqK1ABAIpLzOorUAEAikvM6itQAQCKS8zqK1ABAIpLzOorUAEAADFVSCOQGQAAMVVII5AZAAAxVUgjkBkAADFVSCOQGQAAMVVII5AZAAAxVUgjkBkAADFVSCOQGQAAMVVII5AZAAAxVUgjkBkAADFVSCOQGQNyFtmmG8wxA3IW2aYbzDEDchbZphvMMQNyFtmmG8wxA3IW2aYbzDEDchbZphvMMQNyFtmmG8wxA3IW2aYbzDEDchbZphvMMQNyFtmmG8wxA3P+LQIKBEUDc/4tAgoERQNz/i0CCgRFA3P+LQIKBEUDc/4tAgoERQNz/i0CCgRFA3P+LQIKBEUDc/4tAgoERQNz/i0CCgRFA3P+LQIKBEUA=\",\"dtype\":\"float64\",\"shape\":[100]},\"fill_alpha\":{\"__ndarray__\":\"AAAAAAAAAAAAAAAAAAAAAHAfwX0E96E/cB/BfQT3sT9MZzGdxXTGP3AfwX0E98E/BPcR3Edwvz8or6G8hvKqP3AfwX0E95E/AAAAAAAAAABwH8F9BPeRP3AfwX0E97E/cB/BfQT30T8kuI/gPoLrPzGdxXQW0+k/H8F9BPcR7D9IcB/BfQTnPzqL6Syms9g/KK+hvIbyuj9wH8F9BPexP3AfwX0E96E/cB/BfQT3sT9VVVVVVVXVP3UW01lMZ+E/AAAAAAAA8D9RXkN5DeXlPwT3EdxHcN8/eQ3lNZTX0D9eQ3kN5TXEPyivobyG8qo/AAAAAAAAAABwH8F9BPeRP3AfwX0E96E/cB/BfQT3oT9wH8F9BPexPwT3EdxHcL8/KK+hvIbyqj9eQ3kN5TXEPyivobyG8qo/cB/BfQT3kT8AAAAAAAAAAAAAAAAAAAAAAAAAAAAAAAAAAAAAAAAAAAAAAAAAAAAAcB/BfQT3kT9wH8F9BPehP3AfwX0E98E/cB/BfQT3sT9wH8F9BPeRPwAAAAAAAAAAAAAAAAAAAAAAAAAAAAAAAAAAAAAAAAAAAAAAAAAAAABwH8F9BPeRPyivobyG8ro/OovpLKazyD9MZzGdxXTGP3AfwX0E95E/AAAAAAAAAAAAAAAAAAAAAAAAAAAAAAAAAAAAAAAAAAAAAAAAAAAAAAAAAAAAAAAABPcR3Edwvz9wH8F9BPfBPwT3EdxHcL8/cB/BfQT3oT8AAAAAAAAAAAAAAAAAAAAAAAAAAAAAAAAAAAAAAAAAAAAAAAAAAAAAAAAAAAAAAAAor6G8hvKqP0xnMZ3FdLY/KK+hvIbyqj9wH8F9BPeRPwAAAAAAAAAAAAAAAAAAAAAAAAAAAAAAAAAAAAAAAAAAAAAAAAAAAAAAAAAAAAAAAHAfwX0E96E/cB/BfQT3oT8AAAAAAAAAAAAAAAAAAAAAAAAAAAAAAAAAAAAAAAAAAAAAAAAAAAAAAAAAAAAAAAAAAAAAAAAAAAAAAAAAAAAAAAAAAAAAAABwH8F9BPeRP3AfwX0E95E/AAAAAAAAAAA=\",\"dtype\":\"float64\",\"shape\":[100]},\"left\":{\"__ndarray__\":\"eL+XThpt4r8Sc6npvu7hP85S9RBMJfs/CvaKVpypBkCsQpukksAPQKfHVXnEaxRA+e1doD/3GEBKFGbHuoIdQE4dN/caByFAdjC7ithMI0B4v5dOGm3ivxJzqem+7uE/zlL1EEwl+z8K9opWnKkGQKxCm6SSwA9Ap8dVecRrFED57V2gP/cYQEoUZse6gh1ATh039xoHIUB2MLuK2EwjQHi/l04abeK/EnOp6b7u4T/OUvUQTCX7Pwr2ilacqQZArEKbpJLAD0Cnx1V5xGsUQPntXaA/9xhAShRmx7qCHUBOHTf3GgchQHYwu4rYTCNAeL+XThpt4r8Sc6npvu7hP85S9RBMJfs/CvaKVpypBkCsQpukksAPQKfHVXnEaxRA+e1doD/3GEBKFGbHuoIdQE4dN/caByFAdjC7ithMI0B4v5dOGm3ivxJzqem+7uE/zlL1EEwl+z8K9opWnKkGQKxCm6SSwA9Ap8dVecRrFED57V2gP/cYQEoUZse6gh1ATh039xoHIUB2MLuK2EwjQHi/l04abeK/EnOp6b7u4T/OUvUQTCX7Pwr2ilacqQZArEKbpJLAD0Cnx1V5xGsUQPntXaA/9xhAShRmx7qCHUBOHTf3GgchQHYwu4rYTCNAeL+XThpt4r8Sc6npvu7hP85S9RBMJfs/CvaKVpypBkCsQpukksAPQKfHVXnEaxRA+e1doD/3GEBKFGbHuoIdQE4dN/caByFAdjC7ithMI0B4v5dOGm3ivxJzqem+7uE/zlL1EEwl+z8K9opWnKkGQKxCm6SSwA9Ap8dVecRrFED57V2gP/cYQEoUZse6gh1ATh039xoHIUB2MLuK2EwjQHi/l04abeK/EnOp6b7u4T/OUvUQTCX7Pwr2ilacqQZArEKbpJLAD0Cnx1V5xGsUQPntXaA/9xhAShRmx7qCHUBOHTf3GgchQHYwu4rYTCNAeL+XThpt4r8Sc6npvu7hP85S9RBMJfs/CvaKVpypBkCsQpukksAPQKfHVXnEaxRA+e1doD/3GEBKFGbHuoIdQE4dN/caByFAdjC7ithMI0A=\",\"dtype\":\"float64\",\"shape\":[100]},\"right\":{\"__ndarray__\":\"EnOp6b7u4T/OUvUQTCX7Pwr2ilacqQZArEKbpJLAD0Cnx1V5xGsUQPntXaA/9xhAShRmx7qCHUBOHTf3GgchQHYwu4rYTCNAn0M/HpaSJUASc6npvu7hP85S9RBMJfs/CvaKVpypBkCsQpukksAPQKfHVXnEaxRA+e1doD/3GEBKFGbHuoIdQE4dN/caByFAdjC7ithMI0CfQz8elpIlQBJzqem+7uE/zlL1EEwl+z8K9opWnKkGQKxCm6SSwA9Ap8dVecRrFED57V2gP/cYQEoUZse6gh1ATh039xoHIUB2MLuK2EwjQJ9DPx6WkiVAEnOp6b7u4T/OUvUQTCX7Pwr2ilacqQZArEKbpJLAD0Cnx1V5xGsUQPntXaA/9xhAShRmx7qCHUBOHTf3GgchQHYwu4rYTCNAn0M/HpaSJUASc6npvu7hP85S9RBMJfs/CvaKVpypBkCsQpukksAPQKfHVXnEaxRA+e1doD/3GEBKFGbHuoIdQE4dN/caByFAdjC7ithMI0CfQz8elpIlQBJzqem+7uE/zlL1EEwl+z8K9opWnKkGQKxCm6SSwA9Ap8dVecRrFED57V2gP/cYQEoUZse6gh1ATh039xoHIUB2MLuK2EwjQJ9DPx6WkiVAEnOp6b7u4T/OUvUQTCX7Pwr2ilacqQZArEKbpJLAD0Cnx1V5xGsUQPntXaA/9xhAShRmx7qCHUBOHTf3GgchQHYwu4rYTCNAn0M/HpaSJUASc6npvu7hP85S9RBMJfs/CvaKVpypBkCsQpukksAPQKfHVXnEaxRA+e1doD/3GEBKFGbHuoIdQE4dN/caByFAdjC7ithMI0CfQz8elpIlQBJzqem+7uE/zlL1EEwl+z8K9opWnKkGQKxCm6SSwA9Ap8dVecRrFED57V2gP/cYQEoUZse6gh1ATh039xoHIUB2MLuK2EwjQJ9DPx6WkiVAEnOp6b7u4T/OUvUQTCX7Pwr2ilacqQZArEKbpJLAD0Cnx1V5xGsUQPntXaA/9xhAShRmx7qCHUBOHTf3GgchQHYwu4rYTCNAn0M/HpaSJUA=\",\"dtype\":\"float64\",\"shape\":[100]},\"top\":{\"__ndarray__\":\"Xp7nc9jx+r9enudz2PH6v16e53PY8fq/Xp7nc9jx+r9enudz2PH6v16e53PY8fq/Xp7nc9jx+r9enudz2PH6v16e53PY8fq/Xp7nc9jx+r9IVUmKuKXtv0hVSYq4pe2/SFVJiril7b9IVUmKuKXtv0hVSYq4pe2/SFVJiril7b9IVUmKuKXtv0hVSYq4pe2/SFVJiril7b9IVUmKuKXtv1C3DbMAn8W/ULcNswCfxb9Qtw2zAJ/Fv1C3DbMAn8W/ULcNswCfxb9Qtw2zAJ/Fv1C3DbMAn8W/ULcNswCfxb9Qtw2zAJ/Fv1C3DbMAn8W/oHnCMDjW4j+gecIwONbiP6B5wjA41uI/oHnCMDjW4j+gecIwONbiP6B5wjA41uI/oHnCMDjW4j+gecIwONbiP6B5wjA41uI/oHnCMDjW4j+KMCRHGIr1P4owJEcYivU/ijAkRxiK9T+KMCRHGIr1P4owJEcYivU/ijAkRxiK9T+KMCRHGIr1P4owJEcYivU/ijAkRxiK9T+KMCRHGIr1PyKS8zqK1ABAIpLzOorUAEAikvM6itQAQCKS8zqK1ABAIpLzOorUAEAikvM6itQAQCKS8zqK1ABAIpLzOorUAEAikvM6itQAQCKS8zqK1ABAAAxVUgjkBkAADFVSCOQGQAAMVVII5AZAAAxVUgjkBkAADFVSCOQGQAAMVVII5AZAAAxVUgjkBkAADFVSCOQGQAAMVVII5AZAAAxVUgjkBkDchbZphvMMQNyFtmmG8wxA3IW2aYbzDEDchbZphvMMQNyFtmmG8wxA3IW2aYbzDEDchbZphvMMQNyFtmmG8wxA3IW2aYbzDEDchbZphvMMQNz/i0CCgRFA3P+LQIKBEUDc/4tAgoERQNz/i0CCgRFA3P+LQIKBEUDc/4tAgoERQNz/i0CCgRFA3P+LQIKBEUDc/4tAgoERQNz/i0CCgRFAy7w8TEGJFEDLvDxMQYkUQMu8PExBiRRAy7w8TEGJFEDLvDxMQYkUQMu8PExBiRRAy7w8TEGJFEDLvDxMQYkUQMu8PExBiRRAy7w8TEGJFEA=\",\"dtype\":\"float64\",\"shape\":[100]}},\"selected\":{\"id\":\"fcb186aa-b2c0-4bb7-828f-457fccb1aea3\",\"type\":\"Selection\"},\"selection_policy\":{\"id\":\"bf402872-ea0a-40a2-8e4f-e0437385bcce\",\"type\":\"UnionRenderers\"}},\"id\":\"83decb92-c267-49c9-896e-c6be79489b4b\",\"type\":\"ColumnDataSource\"},{\"attributes\":{},\"id\":\"e184cb45-9f8f-42ad-b489-d317db8ab04e\",\"type\":\"Selection\"},{\"attributes\":{\"active_drag\":\"auto\",\"active_inspect\":\"auto\",\"active_multi\":null,\"active_scroll\":\"auto\",\"active_tap\":\"auto\",\"tools\":[{\"id\":\"bdf19fcb-2fcb-414c-8a78-79cad7d0d8d9\",\"type\":\"PanTool\"},{\"id\":\"cbfe1f0c-fb07-44b4-805c-8ce731afcbcc\",\"type\":\"WheelZoomTool\"},{\"id\":\"a043a511-91f3-4b97-bc02-411860c06d6e\",\"type\":\"BoxZoomTool\"},{\"id\":\"faaa04b4-768d-4564-91a2-21e71243683b\",\"type\":\"SaveTool\"},{\"id\":\"6a266a21-90c1-4002-b6b1-2ff1f36af9ac\",\"type\":\"ResetTool\"},{\"id\":\"11af65ed-b222-47aa-9bfb-be6cfea57436\",\"type\":\"HelpTool\"}]},\"id\":\"a76fb76e-5e0f-4522-a807-066b1a17786c\",\"type\":\"Toolbar\"},{\"attributes\":{},\"id\":\"28ec7ce0-2a16-41d9-9271-7ab6910f8574\",\"type\":\"UnionRenderers\"},{\"attributes\":{\"overlay\":{\"id\":\"d3bf66bb-27c4-4b49-a6fc-b79266abe1de\",\"type\":\"BoxAnnotation\"}},\"id\":\"a043a511-91f3-4b97-bc02-411860c06d6e\",\"type\":\"BoxZoomTool\"},{\"attributes\":{\"data_source\":{\"id\":\"83decb92-c267-49c9-896e-c6be79489b4b\",\"type\":\"ColumnDataSource\"},\"glyph\":{\"id\":\"67e7f182-fdbe-41a1-8fd8-2cbe03534f41\",\"type\":\"Quad\"},\"hover_glyph\":null,\"muted_glyph\":null,\"nonselection_glyph\":{\"id\":\"df34822a-ada8-4534-87a3-89f3e7438bc5\",\"type\":\"Quad\"},\"selection_glyph\":null,\"view\":{\"id\":\"7dbb09c5-bf15-4e11-a589-1f1903acf72a\",\"type\":\"CDSView\"}},\"id\":\"5de16129-a7bc-4a55-a6d2-ec6217a0332a\",\"type\":\"GlyphRenderer\"},{\"attributes\":{\"formatter\":{\"id\":\"40bd7171-1c39-44ca-b0ed-1145ba79ed13\",\"type\":\"BasicTickFormatter\"},\"plot\":{\"id\":\"41764fbf-7975-410d-8345-75fd1a5867ca\",\"subtype\":\"Figure\",\"type\":\"Plot\"},\"ticker\":{\"id\":\"f489fdb0-0448-47d0-9929-93a3971db20f\",\"type\":\"BasicTicker\"}},\"id\":\"2efec4e4-1a80-4d61-a767-ffd53fe52551\",\"type\":\"LinearAxis\"},{\"attributes\":{\"callback\":null},\"id\":\"9aea3314-3a16-4b4f-86d9-e0386a1106d8\",\"type\":\"DataRange1d\"},{\"attributes\":{\"dimension\":1,\"plot\":{\"id\":\"41764fbf-7975-410d-8345-75fd1a5867ca\",\"subtype\":\"Figure\",\"type\":\"Plot\"},\"ticker\":{\"id\":\"f489fdb0-0448-47d0-9929-93a3971db20f\",\"type\":\"BasicTicker\"}},\"id\":\"85eaa1f6-f0d2-4877-b9da-734d0da44adc\",\"type\":\"Grid\"},{\"attributes\":{},\"id\":\"f489fdb0-0448-47d0-9929-93a3971db20f\",\"type\":\"BasicTicker\"},{\"attributes\":{},\"id\":\"11af65ed-b222-47aa-9bfb-be6cfea57436\",\"type\":\"HelpTool\"},{\"attributes\":{\"bottom_units\":\"screen\",\"fill_alpha\":{\"value\":0.5},\"fill_color\":{\"value\":\"lightgrey\"},\"left_units\":\"screen\",\"level\":\"overlay\",\"line_alpha\":{\"value\":1.0},\"line_color\":{\"value\":\"black\"},\"line_dash\":[4,4],\"line_width\":{\"value\":2},\"plot\":null,\"render_mode\":\"css\",\"right_units\":\"screen\",\"top_units\":\"screen\"},\"id\":\"d3bf66bb-27c4-4b49-a6fc-b79266abe1de\",\"type\":\"BoxAnnotation\"},{\"attributes\":{},\"id\":\"6a266a21-90c1-4002-b6b1-2ff1f36af9ac\",\"type\":\"ResetTool\"},{\"attributes\":{},\"id\":\"bdf19fcb-2fcb-414c-8a78-79cad7d0d8d9\",\"type\":\"PanTool\"},{\"attributes\":{\"callback\":null},\"id\":\"64782420-20db-422e-a240-ae9414bd40d2\",\"type\":\"DataRange1d\"},{\"attributes\":{},\"id\":\"7418649f-52f9-4665-b1a0-8d71ff47fd52\",\"type\":\"LinearScale\"},{\"attributes\":{\"bottom\":{\"field\":\"bottom\"},\"fill_alpha\":{\"value\":0.1},\"fill_color\":{\"value\":\"#1f77b4\"},\"left\":{\"field\":\"left\"},\"line_alpha\":{\"value\":0.1},\"line_color\":{\"value\":\"#1f77b4\"},\"right\":{\"field\":\"right\"},\"top\":{\"field\":\"top\"}},\"id\":\"df34822a-ada8-4534-87a3-89f3e7438bc5\",\"type\":\"Quad\"},{\"attributes\":{\"callback\":null,\"data\":{\"x\":{\"__ndarray__\":\"79505YxnFECOoPHLwRAIQEzwXIhRpxBALgWdOv6iDUDjPIG0cqgWQPIsCxgJ8xhAucBKW4xmF0DC8H07rn0FQFjQa48wSg5AvkNLU2fJGUAWOUWLqkUIQLP8d/J1RxVAmXFrirjkIkAZU8Br+cQgQCgzUmcBiyBAUJx4OJSUDUBqgG0ZUWIUQFQPDRuHTwZAQDAm0vpZIkDbFlPlVcoRQOVXy0QAswVAP8c+ec1wAkB4oF4gUfQSQMqIqqCHkxFAU1i6zxBtEkC8Gjsj9koaQB3hVLLlTBRA6wM/AUiKC0DA1SejIbYAQB16o+8GFBhA8t+srQXoI0AfWWY8LooUQHaSI5KLYBZAoN4+Pa8sHkBrpDWti0QVQN+CW5FBUB1AQGA/jBMKH0BaD+edo1waQPbJ4kxTgwlA/uzvzyl6G0CB1+ZSMHIGQOB3ZTIMx84/xetGnpzLBkDT7B1SRfYOQL8QBOV79xpA1r4h+YljFECa4dyMrKwVQJ7WpQQ5oxtAdvnATJAIEEAunWLA3eMIQI4d+xnu5xlAtlacIv3qGEAetx5pxFAgQJYIZs+TPRRAsKO0nm2mFEA6ffud8yAiQEgwQdEmJfo/nRMfzSFXAUCKwJK8Kv8eQKsuZsuD6BhAEVrl/7NDF0AVaxGhVDQRQOD8kKQGvxlAt/BPCfJjGUD68dYaBBoNQICpnLfGUxxAFta42nyuBEDdI+WY6AYdQIwS5uZXbBZADBEh6mkrDUAqZSzCT1oKQP8MTvfVqxFA5cKB+h9PFEBP5662M1wTQHwr+6jQNR9ATxzfUVzrFECgnZKxrN0PQF5zrsiNICBA8NFRbuMcGkDQ3yd2jqESQCWhBM9jyhBAhYBqHP0QAEBXzKADcgsTQD/BzyqW4hZAM90i8ABxFED/HvXgiNYSQL5aDBZz0CJArohqFA54IEAeXMx0g3YiQEmtid9/+xFAFzZ27CvHFUCQlzWQt9sNQOB4Oe+oShBAiBx4JsqNDkAmuNMEOQwfQLBeWNyrKglANDG4rq0XHEDuFl5e6bsRQPakYDvV6BFAAOvafxAjEEAf6cmO/DcQQDaMHtVt1R1AxNxO4//NEEDTVSIIr9sBQL/NTjXsxhBA7fVxuEyrIUDLb7Mwg3ESQE8K6ccgdwZA0H/JmY2GHECXR7Aei9obQASjTRMReBVAepG252oYA0Cm07YtOCUIQF3cRvpOviJA6X4KA/8iBUCM33VR4HoSQCoztfn33yFAk+V+NoLWEEDqZ7msJWQNQGzNyswVOAlAhOm4kXxCGUAovSDD/ssQQNni4dQABx9ADCX3HfneFUA7wemYohcMQBcI37Z9ExVAnZfUYtp0FEAZHQ3dbV0EQPNKPV5W+AtAkBQj2ma0GUD8ok31AOkQQGwpM5zRLxtA6alBpf7wFUCsYO0H3VIRQIToskcYyRFAxMMcGLUDGEB9W5DRVlcSQC6uDfYMTBJAag57exDzG0DhdaoDMYUUQMqyYG6/0BpAKzox6oMPBEA17KuPlYsLQBTs5MiSuSNAsEHVul8R4z/UbBYywxkcQExDdDHJGyVALiiKP0WRH0BMlL/VessRQBlxh+s5ExtA6H9til6OHUC2fIIwpVoTQI4GTAzm3hhAszcL64jHHkDm++tc4FEeQG4WkPv06xBAd7vJrPaJHUCOFqGhHFwQQDwCMZPXDhxAGOzZ7uHRJECyEVg97vUYQNyKh2GLCBlAa1gAo+mfEkC1Tg4xTTUHQHqQ+u9bWhRAzI3cIsAbHEDA5rSXwrT0P2XaJsTuUAlAatkjHy9OC0C7YgepdmsXQJaistBs7f8/5LewPNZXEUDJlLQ1PB0SQFBMOLTsux5AkOtiCh6/EECM52xEnPIRQJloFct4cwpAq7m9SdWxGEBPv40+G0MQQKibn1YLeRpArhEJLVNjCED9eLUdEuETQJktaIlmBBVAtoBX7hk7DkB7kyWfkAwSQDmSbPsPkg1AYmrDWVwQHEBDeVA42UgRQCEq4oHPWRVAiVhf0fYjF0Dqk7ADBKL4P0v9xjSMFxNAfOKD++moE0Av3DOBPA4TQJxqgxxCbgxADUBq0Td4EUBcjhGR9UEWQEZtUXnOmBhAonjWH7o3E0APeCoGdKIXQAWrT/KgZxZA5mFvW6SaHUDLQ42yz5MLQDNkjGiYzRVAj2ea5xUrHEAeHaafor0MQBybn2q7qhxAXoY34uG5FkBwtXaBYiUPQFhPFQ4wlxRAt+axUtseE0CAH6aHpJAcQLJ7e57b2A9Aqh3ypp+nGEDP7PiGF4IJQLaVAsdW/CBAcMKexBj2EEDY7FwzVj8TQOaBJKM11RNAxbvFR1pPFkBvoixd6Q4XQGmVC9AJmwVACt2z+F1FFUCOYaEjQYwZQN7HJ5xwggtAT2IZ7SfLFUCZGYxKEPQRQHO1Qfv6TxBAdpqOF5qAE0BBWHcvKq0KQKyZT7yxNw5Ap8Vob82tIECacbtj050aQC1gfzUMPBRA1irkyv8YH0DlM0a5584RQA5ZxIhrNRxA+AuRobPeGkA1XqOWfnUHQP8KNWbnUBxAss4xZM8B+j+Bwr0fY+gYQJkKQLhmlglAwNaE9qAYH0Di9ss9BJYTQLKWf0AD4BxA/4UYk6IYDkCKG3mdOLYZQGETU2uMRhVAbOD0viVmF0CmDiyjQHMLQCS2EOpuQyFAtks5oMaaE0CyyxmN3MINQDIN5pnf1gtAV8EoCSNGFEBTBWgXhnYTQAtYMNqX3RBA1n//s3/HI0BeGR68sTsGQK4r9ICiwxRAA1krqYLdF0B+S6KoUyseQIx6kQ10sQ9Avr5y33zL+j+ANtepuSAdQOg/EEg9xxRAsqzF3ff/GEDskBzI0S4aQAo7Dp70jw9A/BhLJZzpIUBJrQpAOQsVQFs1GkXCgiBAOpmkw25IGEANnMSNBv4UQHsHRv0RhRNA46ahvrBCEEDx2LBjDosaQBorW8IpXB9AN2oYyCh8AkA9klc3uYILQL6xluanYg9Avc6XeLnvB0DOfupCJ+oUQMLuJUZpRRpAkk0UaKbPFkDzeBzQx8IVQII8v+ZFZCBACpPff0fEC0AyCNawFm4iQAQ4TygblQFA1WOzoGS/BUBYcqYvZKERQHYURVEOIRdAse1LpScgE0AGVe+ck/8VQKJdEhfXsPw//mciKb0QIkAxQQFjNCoXQFmdXZ8/8QhAXG5zBF44HkDmhae+aJT9P4p6kgi0bSBAx4D3RecKB0AqFO6ePRwSQNYzuS3IPyFADLRgZEIdDUDNfY9QlVMPQBKiaGWIvQBAc2vnujiGEUBFGqdK8WobQHya7X11FhNAQtP1Q819EEAKr7sChdH4P29bHQ1zGxhAqP3WLHONGkCUnmWVw5sPQGn7tnYVQxNAmTYQNltCH0Cfdp8EZXYRQAXVMMjDvRdATuE1yHGTIEDfbI7XXSQSQKSZbobOsB1AKALivR8SF0DKevber1UiQNbnABANQ/g/aeM6G7oYAkCK0VyI+lYaQPewSTUCjRZAwOblD7TkGUDzxT9cUNEYQJBgVDwdDRxAY5l0Vh0YGUD8wA7fWIocQPZBpuwScxlAJqcftZ43F0AsUaU84BUKQMr9Rn6WnRdAis+j+9mNHUBk5k1FhMMYQECImFSdIBBA2OpQG/TdDkDFrtuN3nMIQNdhbyu30RhAQGEnNZX62L8XkE8lUFsEQIZ3DXWnsvo/oMoHURuOHkAUhScOqIYfQGNdquGLWyFA+7gHDqlvEkCPFM+JTG4UQKx71dN3GBZAStKQVMXEDEDIw/yocJkIQCJcvb1hCxxAaiU/0dWQFEDjpD4j3eYCQDgU4lQtpR9AlvfjevISFkCS63/oF2YbQNkWcOUyxxtAOgxigYdIGkDpbkqme8YJQOh0q3FpKhNANvViRoAYGEAwujodvJEVQKhPp/kniw9AdeO2XUdeDUA0L4T7DocGQF9GKOcZ6hhAY5sY0bMrEUAGUpAgkpYQQEkMUwcdnBdAeL+XThpt4r+Ed+t5rvcVQJwkpv6vSg9AoXPBnD08BkA1o2tcD2IVQNSjbd2GOw9A/JjEyFdABUAjPsSprj4TQFoAIbUOv/w/tPBZS9YGFkAyhEbKsf8OQGhMZXgDYQ1AOqcEwSImFUC10NK0IdsOQKIzSTE/9B1ANsr1bsabFUDOAldiynsZQHxhx8eWzgdA9KtbTGGzAkCVecGOXtcTQCiCA2lQ+QBACrbQj5W0E0DpmfFS7sYcQJjyclcR2BBAGEM+cLXxG0D24wGmP1sVQOqDFvty2QlAoqGNhM40E0C0B0swuecRQLBjwmL3ORdAhgoFVjgDC0AaX0eiJUcFQDBLnQfpFxhAB+hpJDOXDUAU1uWWIVwVQFhoNBvOPApAi7efu0YpF0BOjVPloAsWQDCFp1DRhiBApza3EY7bE0C6HMqjNI0ZQC0IYYMuVBZAgky/wpkGF0B0GPSuAkEKQLr4x3AVqRZAn4kzoYu6DEA23oI8sdkLQEt/kKqs0RZA3amJsO5cFUBp+zkijxISQJIVyg3Zlf0/wcilhBpAEEAgPfuqI5ghQIRo71tmxBdAY3Co6luOG0C8yMrqvaEaQMDWdIzPCxFAJ70cmxcqFkAyRq26AMYXQBxZhPRYjR5ASzc9VAsiDEDdPW3kzdAQQLwT6m2VGBNACsLFkcGcHkCMxZzes3YbQA4iN/s2/hJAU0240pATAUDKW6iDo30TQHypFIxBORNAQ91ZbFbCEEDSYFptiJEeQL/Mnw0+FQ1A9qMeMGbOEEA13I6fuRQdQHgukhl96BlAjLcflyiLE0BUEWM8AnEjQAi9nzCXOhlAJ8NUJVhQAUCfmoK3pCURQArSsp1OiRlAqpESePKHGUAOwGsqm+gZQFhS4VT3oxpAQf0BYg0KFkCWsRLGbIoTQIzlo0IK2BlAGbrs9r8tEkBqydUp0kgdQBoriJbfkBlApsTWMePGFEDwgJqkzN4JQCw0f+ZzIgdAjAhw/fLJD0AB2FTpxEkXQEgGyznlKxBAZ7TmHn4EE0BxiwI1bQwRQBVw/nBJ5xNAJiN1OMs6F0A+tYfmCp4LQHMTpS14FAVAFn0+zrj+DUAKlijDIQUYQFd2E2OPCxRADgGJoDdzGUDAAqeHDeMVQJ/ORwosuxxAfnMBVZUKDUA4yhKpY7oTQI30+JBsfRlALMZkZ+M+DkCoxbeZSDsPQMFSha0VlARAJxmFgdp0EUB02R5cJMYiQOavdw3zjAhAsGVOa9ETFUDUCSxOxZoTQJyhvInGhBRAiuzCCesEJUAvBUiK5pUZQGzi477PIAtAzM26klK5IEC8jFkcgPQWQJ8DsN6Peh9AlXM5ij1sGEA/3wXKTqYhQMIwYF5fOR9AtQxI3+o3IkAclENx/FscQHB6TOxW9h5AbhOp+6vmH0BV/6ff/zEeQGe7XNmVdSJAMQxI4kM6IED+OHp8dtccQMw8cRekJSBArBJPdkyTI0BUNvWFRNAiQO6Ah0UvdhtAupHp2x9ZHUDnmZc4bskiQByG0tugjx5ASOkg18GGIUDW2jY1xuAfQHmDY8dZOSNAlu3ValcmIEAIW9sgtFIgQD4xD7810iBAtu9zd8BoF0CySIgVVBEfQJ1siGH6ERxAnp+HNL4rIkCLWMPT9ksfQIle97Lq3RtAp8WqsuYcGUCfxe2I3L0eQG5Oj9nBnR1Ad4oJFw6kI0D9nqXkDSkcQBKlvoxe8htAXTkuuK7fHkB4ZwbQNeUeQAgyMzTmHhxAh/BCL1cKHkARQn2x550hQGNtllOhdiBANpo7LZ1BHUAJWMby7MYhQFX2YHuXqyBAri5dPkl4IEC1NKTCddchQLbRCaNocxxAae8uYg6uIEBMyrZjzTYaQAlrWETcxBpA0NzzcijcG0Bk8JH8NjMhQHe09ncH+SBAQJEH7jfuIkCjvAcb9PEgQHYnVxOWUh5A8DQxvvhmI0ANZQVlHmMgQP7Ij4XZWyBAqjjtXnUzIEAomA4NixghQE9O3iaEDh9AKGSfjk/iIUC0KdV3q6YhQOWwH2VHZSBAWnAApklGI0AUWWRLbowfQHdlW3pYnCFAjooG11rGHEDZ4yBIgwMgQAOhXVKTbCJAeFEyyiJ/GUBgc6+8ZskeQLA8V4QsCSJAR3NQKT4lH0BwYHzS/FEgQBGC/bcKWx9AnO8i+cZ6H0C5M9BHJlcZQPZ0bWIloBtAfyujIstPIkCfQz8elpIlQB4ui1FXPCBAU8ppMTCpIUBCbQtL2FAZQDECOIDbPSFAwndytE/JIEAXpyP56xYkQFlylPS2QB9AJxj6HFZZHECMO/fcE9chQPb67PYDwB9AwLhq7nUVJEBc/CjeopciQCGgRAq8WxxAl5bRYjk0HUCE7XigMswhQN2GPthhgyJA\",\"dtype\":\"float64\",\"shape\":[600]},\"y\":{\"__ndarray__\":\"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\",\"dtype\":\"float64\",\"shape\":[600]}},\"selected\":{\"id\":\"e184cb45-9f8f-42ad-b489-d317db8ab04e\",\"type\":\"Selection\"},\"selection_policy\":{\"id\":\"28ec7ce0-2a16-41d9-9271-7ab6910f8574\",\"type\":\"UnionRenderers\"}},\"id\":\"376d3158-3130-49c2-8a72-7d993b146b3c\",\"type\":\"ColumnDataSource\"},{\"attributes\":{\"data_source\":{\"id\":\"376d3158-3130-49c2-8a72-7d993b146b3c\",\"type\":\"ColumnDataSource\"},\"glyph\":{\"id\":\"1adb22e7-1bd1-42ae-b5e1-d0508f8b83c8\",\"type\":\"Circle\"},\"hover_glyph\":null,\"muted_glyph\":null,\"nonselection_glyph\":{\"id\":\"565e6191-d133-43ba-aaee-f48cc901fa1a\",\"type\":\"Circle\"},\"selection_glyph\":null,\"view\":{\"id\":\"aaca64cb-3985-4998-8c8f-e809d263f990\",\"type\":\"CDSView\"}},\"id\":\"d648416e-b058-44cd-b41e-9ffd69b32c47\",\"type\":\"GlyphRenderer\"},{\"attributes\":{\"source\":{\"id\":\"83decb92-c267-49c9-896e-c6be79489b4b\",\"type\":\"ColumnDataSource\"}},\"id\":\"7dbb09c5-bf15-4e11-a589-1f1903acf72a\",\"type\":\"CDSView\"},{\"attributes\":{},\"id\":\"f70fff16-843a-490c-87cc-b7cd865ccc70\",\"type\":\"LinearScale\"},{\"attributes\":{\"fill_alpha\":{\"value\":0.1},\"fill_color\":{\"value\":\"#1f77b4\"},\"line_alpha\":{\"value\":0.1},\"line_color\":{\"value\":\"#1f77b4\"},\"radius\":{\"units\":\"data\",\"value\":0.02},\"x\":{\"field\":\"x\"},\"y\":{\"field\":\"y\"}},\"id\":\"565e6191-d133-43ba-aaee-f48cc901fa1a\",\"type\":\"Circle\"},{\"attributes\":{\"plot\":{\"id\":\"41764fbf-7975-410d-8345-75fd1a5867ca\",\"subtype\":\"Figure\",\"type\":\"Plot\"},\"ticker\":{\"id\":\"e82bcdd7-f313-422b-8b74-227daf25876c\",\"type\":\"BasicTicker\"}},\"id\":\"d65268c2-bf0a-4912-9ad5-09b48a7d9931\",\"type\":\"Grid\"},{\"attributes\":{\"formatter\":{\"id\":\"9865b76b-7144-4542-ae42-280b590becb9\",\"type\":\"BasicTickFormatter\"},\"plot\":{\"id\":\"41764fbf-7975-410d-8345-75fd1a5867ca\",\"subtype\":\"Figure\",\"type\":\"Plot\"},\"ticker\":{\"id\":\"e82bcdd7-f313-422b-8b74-227daf25876c\",\"type\":\"BasicTicker\"}},\"id\":\"f0e237d7-2929-4b80-95e0-79ac2471fd02\",\"type\":\"LinearAxis\"},{\"attributes\":{\"fill_color\":{\"value\":\"red\"},\"line_color\":{\"value\":null},\"radius\":{\"units\":\"data\",\"value\":0.02},\"x\":{\"field\":\"x\"},\"y\":{\"field\":\"y\"}},\"id\":\"1adb22e7-1bd1-42ae-b5e1-d0508f8b83c8\",\"type\":\"Circle\"},{\"attributes\":{},\"id\":\"cbfe1f0c-fb07-44b4-805c-8ce731afcbcc\",\"type\":\"WheelZoomTool\"},{\"attributes\":{},\"id\":\"e82bcdd7-f313-422b-8b74-227daf25876c\",\"type\":\"BasicTicker\"},{\"attributes\":{\"source\":{\"id\":\"376d3158-3130-49c2-8a72-7d993b146b3c\",\"type\":\"ColumnDataSource\"}},\"id\":\"aaca64cb-3985-4998-8c8f-e809d263f990\",\"type\":\"CDSView\"},{\"attributes\":{\"bottom\":{\"field\":\"bottom\"},\"fill_alpha\":{\"field\":\"fill_alpha\"},\"fill_color\":{\"value\":\"green\"},\"left\":{\"field\":\"left\"},\"right\":{\"field\":\"right\"},\"top\":{\"field\":\"top\"}},\"id\":\"67e7f182-fdbe-41a1-8fd8-2cbe03534f41\",\"type\":\"Quad\"}],\"root_ids\":[\"41764fbf-7975-410d-8345-75fd1a5867ca\"]},\"title\":\"Bokeh Application\",\"version\":\"0.13.0\"}};\n",
       "  var render_items = [{\"docid\":\"cba66b38-564b-468e-9f03-c097335dfee5\",\"roots\":{\"41764fbf-7975-410d-8345-75fd1a5867ca\":\"3c4f5c9b-3ad3-406f-aa4f-334c9be7766e\"}}];\n",
       "  root.Bokeh.embed.embed_items_notebook(docs_json, render_items);\n",
       "\n",
       "  }\n",
       "  if (root.Bokeh !== undefined) {\n",
       "    embed_document(root);\n",
       "  } else {\n",
       "    var attempts = 0;\n",
       "    var timer = setInterval(function(root) {\n",
       "      if (root.Bokeh !== undefined) {\n",
       "        embed_document(root);\n",
       "        clearInterval(timer);\n",
       "      }\n",
       "      attempts++;\n",
       "      if (attempts > 100) {\n",
       "        console.log(\"Bokeh: ERROR: Unable to run BokehJS code because BokehJS library is missing\")\n",
       "        clearInterval(timer);\n",
       "      }\n",
       "    }, 10, root)\n",
       "  }\n",
       "})(window);"
      ],
      "application/vnd.bokehjs_exec.v0+json": ""
     },
     "metadata": {
      "application/vnd.bokehjs_exec.v0+json": {
       "id": "41764fbf-7975-410d-8345-75fd1a5867ca"
      }
     },
     "output_type": "display_data"
    }
   ],
   "source": [
    "g = figure(plot_width=300,plot_height=300)\n",
    "g.quad(\n",
    "    left=l_bound,\n",
    "    right=r_bound,\n",
    "    bottom=d_bound,\n",
    "    top=u_bound,\n",
    "    line_color='black',\n",
    "    fill_color='green',\n",
    "    fill_alpha=alpha\n",
    ")\n",
    "g.circle(x,y,radius=.02,fill_color='red',line_color=None)\n",
    "show(g)"
   ]
  },
  {
   "cell_type": "code",
   "execution_count": 16,
   "metadata": {},
   "outputs": [],
   "source": [
    "lr_center = (l_bound + r_bound)/2.0\n",
    "ud_center = (u_bound + d_bound)/2.0"
   ]
  },
  {
   "cell_type": "code",
   "execution_count": 17,
   "metadata": {},
   "outputs": [
    {
     "data": {
      "text/html": [
       "\n",
       "\n",
       "\n",
       "\n",
       "\n",
       "\n",
       "  <div class=\"bk-root\" id=\"4ed41081-3473-4288-abde-b160797a37e6\"></div>\n"
      ]
     },
     "metadata": {},
     "output_type": "display_data"
    },
    {
     "data": {
      "application/javascript": [
       "(function(root) {\n",
       "  function embed_document(root) {\n",
       "    \n",
       "  var docs_json = {\"8178ba2d-62a3-4fb6-a682-da97335e6bc8\":{\"roots\":{\"references\":[{\"attributes\":{\"fill_color\":{\"value\":\"red\"},\"line_color\":{\"value\":null},\"radius\":{\"units\":\"data\",\"value\":0.02},\"x\":{\"field\":\"x\"},\"y\":{\"field\":\"y\"}},\"id\":\"55b0d980-34a4-4e19-bb03-350132225a33\",\"type\":\"Circle\"},{\"attributes\":{},\"id\":\"9328388b-ecc9-4fa1-a435-2ff579188d86\",\"type\":\"BasicTicker\"},{\"attributes\":{},\"id\":\"aded78e1-ee5a-4388-88f1-88286c47ca67\",\"type\":\"Selection\"},{\"attributes\":{\"formatter\":{\"id\":\"a3f19c9f-7086-4d67-bf2a-3173ff47a30e\",\"type\":\"BasicTickFormatter\"},\"plot\":{\"id\":\"87dabce5-c981-4811-a4c2-2c1193fb48ef\",\"subtype\":\"Figure\",\"type\":\"Plot\"},\"ticker\":{\"id\":\"9328388b-ecc9-4fa1-a435-2ff579188d86\",\"type\":\"BasicTicker\"}},\"id\":\"794abfad-ebe9-44d2-a124-9cc8e9f97019\",\"type\":\"LinearAxis\"},{\"attributes\":{\"active_drag\":\"auto\",\"active_inspect\":\"auto\",\"active_multi\":null,\"active_scroll\":\"auto\",\"active_tap\":\"auto\",\"tools\":[{\"id\":\"d412a826-bde5-4466-8126-e899bb9ca4a2\",\"type\":\"PanTool\"},{\"id\":\"d2a6f58c-17cd-4600-888a-c283f5c59ddf\",\"type\":\"WheelZoomTool\"},{\"id\":\"1a01bafa-39ec-4ba4-ba85-2da9c4c19e73\",\"type\":\"BoxZoomTool\"},{\"id\":\"4b425d34-3eae-4b15-9f31-a0a237f8c995\",\"type\":\"SaveTool\"},{\"id\":\"9b817da7-615a-43ae-a0b6-9a2a76a6f2b9\",\"type\":\"ResetTool\"},{\"id\":\"895203f7-2a20-4506-be13-5a0fd917fe26\",\"type\":\"HelpTool\"}]},\"id\":\"2ca15bfe-71aa-406d-9045-2c97524ec49b\",\"type\":\"Toolbar\"},{\"attributes\":{\"fill_color\":{\"value\":\"blue\"},\"line_color\":{\"value\":null},\"radius\":{\"units\":\"data\",\"value\":0.1},\"x\":{\"field\":\"x\"},\"y\":{\"field\":\"y\"}},\"id\":\"fe690211-bda4-47f5-b0c2-cf88b09dc22f\",\"type\":\"Circle\"},{\"attributes\":{\"data_source\":{\"id\":\"de577d2e-d13d-4fa7-8b40-c4149ce1335a\",\"type\":\"ColumnDataSource\"},\"glyph\":{\"id\":\"fe690211-bda4-47f5-b0c2-cf88b09dc22f\",\"type\":\"Circle\"},\"hover_glyph\":null,\"muted_glyph\":null,\"nonselection_glyph\":{\"id\":\"ef2ca6b1-6fdd-4ec0-a17b-a16e1c466cbf\",\"type\":\"Circle\"},\"selection_glyph\":null,\"view\":{\"id\":\"d7ae265e-a6c0-4ddb-94d9-b1360853c57a\",\"type\":\"CDSView\"}},\"id\":\"602d94cb-90ff-4b0e-9d9b-903713e71005\",\"type\":\"GlyphRenderer\"},{\"attributes\":{},\"id\":\"d412a826-bde5-4466-8126-e899bb9ca4a2\",\"type\":\"PanTool\"},{\"attributes\":{\"callback\":null,\"data\":{\"x\":{\"__ndarray__\":\"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\",\"dtype\":\"float64\",\"shape\":[600]},\"y\":{\"__ndarray__\":\"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\",\"dtype\":\"float64\",\"shape\":[600]}},\"selected\":{\"id\":\"aded78e1-ee5a-4388-88f1-88286c47ca67\",\"type\":\"Selection\"},\"selection_policy\":{\"id\":\"4ed36c45-db30-4304-954d-ea10403e66aa\",\"type\":\"UnionRenderers\"}},\"id\":\"57bbb0db-4c5b-40e0-b518-c9a8738c2a37\",\"type\":\"ColumnDataSource\"},{\"attributes\":{\"bottom_units\":\"screen\",\"fill_alpha\":{\"value\":0.5},\"fill_color\":{\"value\":\"lightgrey\"},\"left_units\":\"screen\",\"level\":\"overlay\",\"line_alpha\":{\"value\":1.0},\"line_color\":{\"value\":\"black\"},\"line_dash\":[4,4],\"line_width\":{\"value\":2},\"plot\":null,\"render_mode\":\"css\",\"right_units\":\"screen\",\"top_units\":\"screen\"},\"id\":\"4436f560-403a-40ce-8f3f-e3613f69385e\",\"type\":\"BoxAnnotation\"},{\"attributes\":{\"callback\":null,\"data\":{\"bottom\":{\"__ndarray__\":\"DElVUWqIA8AMSVVRaogDwAxJVVFqiAPADElVUWqIA8AMSVVRaogDwAxJVVFqiAPADElVUWqIA8AMSVVRaogDwAxJVVFqiAPADElVUWqIA8Benudz2PH6v16e53PY8fq/Xp7nc9jx+r9enudz2PH6v16e53PY8fq/Xp7nc9jx+r9enudz2PH6v16e53PY8fq/Xp7nc9jx+r9enudz2PH6v0hVSYq4pe2/SFVJiril7b9IVUmKuKXtv0hVSYq4pe2/SFVJiril7b9IVUmKuKXtv0hVSYq4pe2/SFVJiril7b9IVUmKuKXtv0hVSYq4pe2/ULcNswCfxb9Qtw2zAJ/Fv1C3DbMAn8W/ULcNswCfxb9Qtw2zAJ/Fv1C3DbMAn8W/ULcNswCfxb9Qtw2zAJ/Fv1C3DbMAn8W/ULcNswCfxb+gecIwONbiP6B5wjA41uI/oHnCMDjW4j+gecIwONbiP6B5wjA41uI/oHnCMDjW4j+gecIwONbiP6B5wjA41uI/oHnCMDjW4j+gecIwONbiP4owJEcYivU/ijAkRxiK9T+KMCRHGIr1P4owJEcYivU/ijAkRxiK9T+KMCRHGIr1P4owJEcYivU/ijAkRxiK9T+KMCRHGIr1P4owJEcYivU/IpLzOorUAEAikvM6itQAQCKS8zqK1ABAIpLzOorUAEAikvM6itQAQCKS8zqK1ABAIpLzOorUAEAikvM6itQAQCKS8zqK1ABAIpLzOorUAEAADFVSCOQGQAAMVVII5AZAAAxVUgjkBkAADFVSCOQGQAAMVVII5AZAAAxVUgjkBkAADFVSCOQGQAAMVVII5AZAAAxVUgjkBkAADFVSCOQGQNyFtmmG8wxA3IW2aYbzDEDchbZphvMMQNyFtmmG8wxA3IW2aYbzDEDchbZphvMMQNyFtmmG8wxA3IW2aYbzDEDchbZphvMMQNyFtmmG8wxA3P+LQIKBEUDc/4tAgoERQNz/i0CCgRFA3P+LQIKBEUDc/4tAgoERQNz/i0CCgRFA3P+LQIKBEUDc/4tAgoERQNz/i0CCgRFA3P+LQIKBEUA=\",\"dtype\":\"float64\",\"shape\":[100]},\"fill_alpha\":{\"__ndarray__\":\"AAAAAAAAAAAAAAAAAAAAAHAfwX0E96E/cB/BfQT3sT9MZzGdxXTGP3AfwX0E98E/BPcR3Edwvz8or6G8hvKqP3AfwX0E95E/AAAAAAAAAABwH8F9BPeRP3AfwX0E97E/cB/BfQT30T8kuI/gPoLrPzGdxXQW0+k/H8F9BPcR7D9IcB/BfQTnPzqL6Syms9g/KK+hvIbyuj9wH8F9BPexP3AfwX0E96E/cB/BfQT3sT9VVVVVVVXVP3UW01lMZ+E/AAAAAAAA8D9RXkN5DeXlPwT3EdxHcN8/eQ3lNZTX0D9eQ3kN5TXEPyivobyG8qo/AAAAAAAAAABwH8F9BPeRP3AfwX0E96E/cB/BfQT3oT9wH8F9BPexPwT3EdxHcL8/KK+hvIbyqj9eQ3kN5TXEPyivobyG8qo/cB/BfQT3kT8AAAAAAAAAAAAAAAAAAAAAAAAAAAAAAAAAAAAAAAAAAAAAAAAAAAAAcB/BfQT3kT9wH8F9BPehP3AfwX0E98E/cB/BfQT3sT9wH8F9BPeRPwAAAAAAAAAAAAAAAAAAAAAAAAAAAAAAAAAAAAAAAAAAAAAAAAAAAABwH8F9BPeRPyivobyG8ro/OovpLKazyD9MZzGdxXTGP3AfwX0E95E/AAAAAAAAAAAAAAAAAAAAAAAAAAAAAAAAAAAAAAAAAAAAAAAAAAAAAAAAAAAAAAAABPcR3Edwvz9wH8F9BPfBPwT3EdxHcL8/cB/BfQT3oT8AAAAAAAAAAAAAAAAAAAAAAAAAAAAAAAAAAAAAAAAAAAAAAAAAAAAAAAAAAAAAAAAor6G8hvKqP0xnMZ3FdLY/KK+hvIbyqj9wH8F9BPeRPwAAAAAAAAAAAAAAAAAAAAAAAAAAAAAAAAAAAAAAAAAAAAAAAAAAAAAAAAAAAAAAAHAfwX0E96E/cB/BfQT3oT8AAAAAAAAAAAAAAAAAAAAAAAAAAAAAAAAAAAAAAAAAAAAAAAAAAAAAAAAAAAAAAAAAAAAAAAAAAAAAAAAAAAAAAAAAAAAAAABwH8F9BPeRP3AfwX0E95E/AAAAAAAAAAA=\",\"dtype\":\"float64\",\"shape\":[100]},\"left\":{\"__ndarray__\":\"eL+XThpt4r8Sc6npvu7hP85S9RBMJfs/CvaKVpypBkCsQpukksAPQKfHVXnEaxRA+e1doD/3GEBKFGbHuoIdQE4dN/caByFAdjC7ithMI0B4v5dOGm3ivxJzqem+7uE/zlL1EEwl+z8K9opWnKkGQKxCm6SSwA9Ap8dVecRrFED57V2gP/cYQEoUZse6gh1ATh039xoHIUB2MLuK2EwjQHi/l04abeK/EnOp6b7u4T/OUvUQTCX7Pwr2ilacqQZArEKbpJLAD0Cnx1V5xGsUQPntXaA/9xhAShRmx7qCHUBOHTf3GgchQHYwu4rYTCNAeL+XThpt4r8Sc6npvu7hP85S9RBMJfs/CvaKVpypBkCsQpukksAPQKfHVXnEaxRA+e1doD/3GEBKFGbHuoIdQE4dN/caByFAdjC7ithMI0B4v5dOGm3ivxJzqem+7uE/zlL1EEwl+z8K9opWnKkGQKxCm6SSwA9Ap8dVecRrFED57V2gP/cYQEoUZse6gh1ATh039xoHIUB2MLuK2EwjQHi/l04abeK/EnOp6b7u4T/OUvUQTCX7Pwr2ilacqQZArEKbpJLAD0Cnx1V5xGsUQPntXaA/9xhAShRmx7qCHUBOHTf3GgchQHYwu4rYTCNAeL+XThpt4r8Sc6npvu7hP85S9RBMJfs/CvaKVpypBkCsQpukksAPQKfHVXnEaxRA+e1doD/3GEBKFGbHuoIdQE4dN/caByFAdjC7ithMI0B4v5dOGm3ivxJzqem+7uE/zlL1EEwl+z8K9opWnKkGQKxCm6SSwA9Ap8dVecRrFED57V2gP/cYQEoUZse6gh1ATh039xoHIUB2MLuK2EwjQHi/l04abeK/EnOp6b7u4T/OUvUQTCX7Pwr2ilacqQZArEKbpJLAD0Cnx1V5xGsUQPntXaA/9xhAShRmx7qCHUBOHTf3GgchQHYwu4rYTCNAeL+XThpt4r8Sc6npvu7hP85S9RBMJfs/CvaKVpypBkCsQpukksAPQKfHVXnEaxRA+e1doD/3GEBKFGbHuoIdQE4dN/caByFAdjC7ithMI0A=\",\"dtype\":\"float64\",\"shape\":[100]},\"right\":{\"__ndarray__\":\"EnOp6b7u4T/OUvUQTCX7Pwr2ilacqQZArEKbpJLAD0Cnx1V5xGsUQPntXaA/9xhAShRmx7qCHUBOHTf3GgchQHYwu4rYTCNAn0M/HpaSJUASc6npvu7hP85S9RBMJfs/CvaKVpypBkCsQpukksAPQKfHVXnEaxRA+e1doD/3GEBKFGbHuoIdQE4dN/caByFAdjC7ithMI0CfQz8elpIlQBJzqem+7uE/zlL1EEwl+z8K9opWnKkGQKxCm6SSwA9Ap8dVecRrFED57V2gP/cYQEoUZse6gh1ATh039xoHIUB2MLuK2EwjQJ9DPx6WkiVAEnOp6b7u4T/OUvUQTCX7Pwr2ilacqQZArEKbpJLAD0Cnx1V5xGsUQPntXaA/9xhAShRmx7qCHUBOHTf3GgchQHYwu4rYTCNAn0M/HpaSJUASc6npvu7hP85S9RBMJfs/CvaKVpypBkCsQpukksAPQKfHVXnEaxRA+e1doD/3GEBKFGbHuoIdQE4dN/caByFAdjC7ithMI0CfQz8elpIlQBJzqem+7uE/zlL1EEwl+z8K9opWnKkGQKxCm6SSwA9Ap8dVecRrFED57V2gP/cYQEoUZse6gh1ATh039xoHIUB2MLuK2EwjQJ9DPx6WkiVAEnOp6b7u4T/OUvUQTCX7Pwr2ilacqQZArEKbpJLAD0Cnx1V5xGsUQPntXaA/9xhAShRmx7qCHUBOHTf3GgchQHYwu4rYTCNAn0M/HpaSJUASc6npvu7hP85S9RBMJfs/CvaKVpypBkCsQpukksAPQKfHVXnEaxRA+e1doD/3GEBKFGbHuoIdQE4dN/caByFAdjC7ithMI0CfQz8elpIlQBJzqem+7uE/zlL1EEwl+z8K9opWnKkGQKxCm6SSwA9Ap8dVecRrFED57V2gP/cYQEoUZse6gh1ATh039xoHIUB2MLuK2EwjQJ9DPx6WkiVAEnOp6b7u4T/OUvUQTCX7Pwr2ilacqQZArEKbpJLAD0Cnx1V5xGsUQPntXaA/9xhAShRmx7qCHUBOHTf3GgchQHYwu4rYTCNAn0M/HpaSJUA=\",\"dtype\":\"float64\",\"shape\":[100]},\"top\":{\"__ndarray__\":\"Xp7nc9jx+r9enudz2PH6v16e53PY8fq/Xp7nc9jx+r9enudz2PH6v16e53PY8fq/Xp7nc9jx+r9enudz2PH6v16e53PY8fq/Xp7nc9jx+r9IVUmKuKXtv0hVSYq4pe2/SFVJiril7b9IVUmKuKXtv0hVSYq4pe2/SFVJiril7b9IVUmKuKXtv0hVSYq4pe2/SFVJiril7b9IVUmKuKXtv1C3DbMAn8W/ULcNswCfxb9Qtw2zAJ/Fv1C3DbMAn8W/ULcNswCfxb9Qtw2zAJ/Fv1C3DbMAn8W/ULcNswCfxb9Qtw2zAJ/Fv1C3DbMAn8W/oHnCMDjW4j+gecIwONbiP6B5wjA41uI/oHnCMDjW4j+gecIwONbiP6B5wjA41uI/oHnCMDjW4j+gecIwONbiP6B5wjA41uI/oHnCMDjW4j+KMCRHGIr1P4owJEcYivU/ijAkRxiK9T+KMCRHGIr1P4owJEcYivU/ijAkRxiK9T+KMCRHGIr1P4owJEcYivU/ijAkRxiK9T+KMCRHGIr1PyKS8zqK1ABAIpLzOorUAEAikvM6itQAQCKS8zqK1ABAIpLzOorUAEAikvM6itQAQCKS8zqK1ABAIpLzOorUAEAikvM6itQAQCKS8zqK1ABAAAxVUgjkBkAADFVSCOQGQAAMVVII5AZAAAxVUgjkBkAADFVSCOQGQAAMVVII5AZAAAxVUgjkBkAADFVSCOQGQAAMVVII5AZAAAxVUgjkBkDchbZphvMMQNyFtmmG8wxA3IW2aYbzDEDchbZphvMMQNyFtmmG8wxA3IW2aYbzDEDchbZphvMMQNyFtmmG8wxA3IW2aYbzDEDchbZphvMMQNz/i0CCgRFA3P+LQIKBEUDc/4tAgoERQNz/i0CCgRFA3P+LQIKBEUDc/4tAgoERQNz/i0CCgRFA3P+LQIKBEUDc/4tAgoERQNz/i0CCgRFAy7w8TEGJFEDLvDxMQYkUQMu8PExBiRRAy7w8TEGJFEDLvDxMQYkUQMu8PExBiRRAy7w8TEGJFEDLvDxMQYkUQMu8PExBiRRAy7w8TEGJFEA=\",\"dtype\":\"float64\",\"shape\":[100]}},\"selected\":{\"id\":\"863efbee-802c-4dc0-9e40-489de9f9bec3\",\"type\":\"Selection\"},\"selection_policy\":{\"id\":\"b18b25ac-6e32-4e9e-8308-464eacf2fde6\",\"type\":\"UnionRenderers\"}},\"id\":\"bc5b20af-35ab-4cc0-a1c8-48e4800b4947\",\"type\":\"ColumnDataSource\"},{\"attributes\":{},\"id\":\"863efbee-802c-4dc0-9e40-489de9f9bec3\",\"type\":\"Selection\"},{\"attributes\":{\"callback\":null},\"id\":\"38b85c13-2c9b-469b-ada6-50f79498c20d\",\"type\":\"DataRange1d\"},{\"attributes\":{},\"id\":\"4f553176-fa7d-42c5-9a61-44289b35c52f\",\"type\":\"BasicTickFormatter\"},{\"attributes\":{},\"id\":\"a3f19c9f-7086-4d67-bf2a-3173ff47a30e\",\"type\":\"BasicTickFormatter\"},{\"attributes\":{},\"id\":\"d2a6f58c-17cd-4600-888a-c283f5c59ddf\",\"type\":\"WheelZoomTool\"},{\"attributes\":{\"source\":{\"id\":\"57bbb0db-4c5b-40e0-b518-c9a8738c2a37\",\"type\":\"ColumnDataSource\"}},\"id\":\"d2954586-e2e7-4e1a-9e59-bfbd393d28e5\",\"type\":\"CDSView\"},{\"attributes\":{\"formatter\":{\"id\":\"4f553176-fa7d-42c5-9a61-44289b35c52f\",\"type\":\"BasicTickFormatter\"},\"plot\":{\"id\":\"87dabce5-c981-4811-a4c2-2c1193fb48ef\",\"subtype\":\"Figure\",\"type\":\"Plot\"},\"ticker\":{\"id\":\"f1c133be-1361-4ce9-a6fc-e43b8bde0050\",\"type\":\"BasicTicker\"}},\"id\":\"f077c7f0-8667-4e8d-bc2d-693537d03b83\",\"type\":\"LinearAxis\"},{\"attributes\":{\"bottom\":{\"field\":\"bottom\"},\"fill_alpha\":{\"field\":\"fill_alpha\"},\"fill_color\":{\"value\":\"green\"},\"left\":{\"field\":\"left\"},\"right\":{\"field\":\"right\"},\"top\":{\"field\":\"top\"}},\"id\":\"f83c0009-8d8b-4726-a714-492a17a338cd\",\"type\":\"Quad\"},{\"attributes\":{\"bottom\":{\"field\":\"bottom\"},\"fill_alpha\":{\"value\":0.1},\"fill_color\":{\"value\":\"#1f77b4\"},\"left\":{\"field\":\"left\"},\"line_alpha\":{\"value\":0.1},\"line_color\":{\"value\":\"#1f77b4\"},\"right\":{\"field\":\"right\"},\"top\":{\"field\":\"top\"}},\"id\":\"31f0d0b3-2ee4-415d-88cd-5c667c96e915\",\"type\":\"Quad\"},{\"attributes\":{},\"id\":\"b18b25ac-6e32-4e9e-8308-464eacf2fde6\",\"type\":\"UnionRenderers\"},{\"attributes\":{\"source\":{\"id\":\"de577d2e-d13d-4fa7-8b40-c4149ce1335a\",\"type\":\"ColumnDataSource\"}},\"id\":\"d7ae265e-a6c0-4ddb-94d9-b1360853c57a\",\"type\":\"CDSView\"},{\"attributes\":{},\"id\":\"895203f7-2a20-4506-be13-5a0fd917fe26\",\"type\":\"HelpTool\"},{\"attributes\":{},\"id\":\"2f55f784-0001-4c5c-a719-1f394e060a52\",\"type\":\"LinearScale\"},{\"attributes\":{\"dimension\":1,\"plot\":{\"id\":\"87dabce5-c981-4811-a4c2-2c1193fb48ef\",\"subtype\":\"Figure\",\"type\":\"Plot\"},\"ticker\":{\"id\":\"f1c133be-1361-4ce9-a6fc-e43b8bde0050\",\"type\":\"BasicTicker\"}},\"id\":\"9e7c5aff-5adc-41c7-a67b-13725887f8c4\",\"type\":\"Grid\"},{\"attributes\":{\"overlay\":{\"id\":\"4436f560-403a-40ce-8f3f-e3613f69385e\",\"type\":\"BoxAnnotation\"}},\"id\":\"1a01bafa-39ec-4ba4-ba85-2da9c4c19e73\",\"type\":\"BoxZoomTool\"},{\"attributes\":{\"below\":[{\"id\":\"794abfad-ebe9-44d2-a124-9cc8e9f97019\",\"type\":\"LinearAxis\"}],\"left\":[{\"id\":\"f077c7f0-8667-4e8d-bc2d-693537d03b83\",\"type\":\"LinearAxis\"}],\"plot_height\":300,\"plot_width\":300,\"renderers\":[{\"id\":\"794abfad-ebe9-44d2-a124-9cc8e9f97019\",\"type\":\"LinearAxis\"},{\"id\":\"a39a5764-cc73-45c9-856e-a1ff893baf02\",\"type\":\"Grid\"},{\"id\":\"f077c7f0-8667-4e8d-bc2d-693537d03b83\",\"type\":\"LinearAxis\"},{\"id\":\"9e7c5aff-5adc-41c7-a67b-13725887f8c4\",\"type\":\"Grid\"},{\"id\":\"4436f560-403a-40ce-8f3f-e3613f69385e\",\"type\":\"BoxAnnotation\"},{\"id\":\"3f88cb0d-6ae3-45c6-8a66-362f2d4f710b\",\"type\":\"GlyphRenderer\"},{\"id\":\"44fdaf7e-db8e-411a-9dfc-8a9bd4a68366\",\"type\":\"GlyphRenderer\"},{\"id\":\"602d94cb-90ff-4b0e-9d9b-903713e71005\",\"type\":\"GlyphRenderer\"}],\"title\":{\"id\":\"f1f6298c-eddf-4a71-b49b-c3941cc74d90\",\"type\":\"Title\"},\"toolbar\":{\"id\":\"2ca15bfe-71aa-406d-9045-2c97524ec49b\",\"type\":\"Toolbar\"},\"x_range\":{\"id\":\"95fb618f-8ac8-4272-af15-1d53f0d58f59\",\"type\":\"DataRange1d\"},\"x_scale\":{\"id\":\"2f55f784-0001-4c5c-a719-1f394e060a52\",\"type\":\"LinearScale\"},\"y_range\":{\"id\":\"38b85c13-2c9b-469b-ada6-50f79498c20d\",\"type\":\"DataRange1d\"},\"y_scale\":{\"id\":\"445e2bca-309b-4e2e-a397-caddc1f9abee\",\"type\":\"LinearScale\"}},\"id\":\"87dabce5-c981-4811-a4c2-2c1193fb48ef\",\"subtype\":\"Figure\",\"type\":\"Plot\"},{\"attributes\":{},\"id\":\"68c66423-5706-44da-82a1-440788fb5421\",\"type\":\"UnionRenderers\"},{\"attributes\":{},\"id\":\"9b817da7-615a-43ae-a0b6-9a2a76a6f2b9\",\"type\":\"ResetTool\"},{\"attributes\":{\"plot\":{\"id\":\"87dabce5-c981-4811-a4c2-2c1193fb48ef\",\"subtype\":\"Figure\",\"type\":\"Plot\"},\"ticker\":{\"id\":\"9328388b-ecc9-4fa1-a435-2ff579188d86\",\"type\":\"BasicTicker\"}},\"id\":\"a39a5764-cc73-45c9-856e-a1ff893baf02\",\"type\":\"Grid\"},{\"attributes\":{\"fill_alpha\":{\"value\":0.1},\"fill_color\":{\"value\":\"#1f77b4\"},\"line_alpha\":{\"value\":0.1},\"line_color\":{\"value\":\"#1f77b4\"},\"radius\":{\"units\":\"data\",\"value\":0.02},\"x\":{\"field\":\"x\"},\"y\":{\"field\":\"y\"}},\"id\":\"e1362fb6-2860-4124-bf36-2097f3ede736\",\"type\":\"Circle\"},{\"attributes\":{},\"id\":\"445e2bca-309b-4e2e-a397-caddc1f9abee\",\"type\":\"LinearScale\"},{\"attributes\":{\"data_source\":{\"id\":\"bc5b20af-35ab-4cc0-a1c8-48e4800b4947\",\"type\":\"ColumnDataSource\"},\"glyph\":{\"id\":\"f83c0009-8d8b-4726-a714-492a17a338cd\",\"type\":\"Quad\"},\"hover_glyph\":null,\"muted_glyph\":null,\"nonselection_glyph\":{\"id\":\"31f0d0b3-2ee4-415d-88cd-5c667c96e915\",\"type\":\"Quad\"},\"selection_glyph\":null,\"view\":{\"id\":\"fdcb5b6b-e5e7-4721-86f9-b3720017355f\",\"type\":\"CDSView\"}},\"id\":\"3f88cb0d-6ae3-45c6-8a66-362f2d4f710b\",\"type\":\"GlyphRenderer\"},{\"attributes\":{\"plot\":null,\"text\":\"\"},\"id\":\"f1f6298c-eddf-4a71-b49b-c3941cc74d90\",\"type\":\"Title\"},{\"attributes\":{\"callback\":null},\"id\":\"95fb618f-8ac8-4272-af15-1d53f0d58f59\",\"type\":\"DataRange1d\"},{\"attributes\":{\"callback\":null,\"data\":{\"x\":{\"__ndarray__\":\"gBmTO9mWf78sBuXCVQ7yP7jPgi8hHgJAWxyTfRc1C0B+tNHlBiYSQNDa2QyCsRZAIgHiM/08G0BzJ+paeMgfQOIm+cD5KSJACjp9VLdvJECAGZM72ZZ/vywG5cJVDvI/uM+CLyEeAkBbHJN9FzULQH600eUGJhJA0NrZDIKxFkAiAeIz/TwbQHMn6lp4yB9A4ib5wPkpIkAKOn1Ut28kQIAZkzvZln+/LAblwlUO8j+4z4IvIR4CQFsck30XNQtAfrTR5QYmEkDQ2tkMgrEWQCIB4jP9PBtAcyfqWnjIH0DiJvnA+SkiQAo6fVS3byRAgBmTO9mWf78sBuXCVQ7yP7jPgi8hHgJAWxyTfRc1C0B+tNHlBiYSQNDa2QyCsRZAIgHiM/08G0BzJ+paeMgfQOIm+cD5KSJACjp9VLdvJECAGZM72ZZ/vywG5cJVDvI/uM+CLyEeAkBbHJN9FzULQH600eUGJhJA0NrZDIKxFkAiAeIz/TwbQHMn6lp4yB9A4ib5wPkpIkAKOn1Ut28kQIAZkzvZln+/LAblwlUO8j+4z4IvIR4CQFsck30XNQtAfrTR5QYmEkDQ2tkMgrEWQCIB4jP9PBtAcyfqWnjIH0DiJvnA+SkiQAo6fVS3byRAgBmTO9mWf78sBuXCVQ7yP7jPgi8hHgJAWxyTfRc1C0B+tNHlBiYSQNDa2QyCsRZAIgHiM/08G0BzJ+paeMgfQOIm+cD5KSJACjp9VLdvJECAGZM72ZZ/vywG5cJVDvI/uM+CLyEeAkBbHJN9FzULQH600eUGJhJA0NrZDIKxFkAiAeIz/TwbQHMn6lp4yB9A4ib5wPkpIkAKOn1Ut28kQIAZkzvZln+/LAblwlUO8j+4z4IvIR4CQFsck30XNQtAfrTR5QYmEkDQ2tkMgrEWQCIB4jP9PBtAcyfqWnjIH0DiJvnA+SkiQAo6fVS3byRAgBmTO9mWf78sBuXCVQ7yP7jPgi8hHgJAWxyTfRc1C0B+tNHlBiYSQNDa2QyCsRZAIgHiM/08G0BzJ+paeMgfQOIm+cD5KSJACjp9VLdvJEA=\",\"dtype\":\"float64\",\"shape\":[100]},\"y\":{\"__ndarray__\":\"HoykRauAAMAejKRFq4AAwB6MpEWrgADAHoykRauAAMAejKRFq4AAwB6MpEWrgADAHoykRauAAMAejKRFq4AAwB6MpEWrgADAHoykRauAAMCBJIZcWuL0v4Ekhlxa4vS/gSSGXFri9L+BJIZcWuL0v4Ekhlxa4vS/gSSGXFri9L+BJIZcWuL0v4Ekhlxa4vS/gSSGXFri9L+BJIZcWuL0v45hhlu8huG/jmGGW7yG4b+OYYZbvIbhv45hhlu8huG/jmGGW7yG4b+OYYZbvIbhv45hhlu8huG/jmGGW7yG4b+OYYZbvIbhv45hhlu8huG/mBf+B/Dcyj+YF/4H8NzKP5gX/gfw3Mo/mBf+B/Dcyj+YF/4H8NzKP5gX/gfw3Mo/mBf+B/Dcyj+YF/4H8NzKP5gX/gfw3Mo/mBf+B/Dcyj9abYVfNPXuP1pthV809e4/Wm2FXzT17j9abYVfNPXuP1pthV809e4/Wm2FXzT17j9abYVfNPXuP1pthV809e4/Wm2FXzT17j9abYVfNPXuP2eqhV6Wmfs/Z6qFXpaZ+z9nqoVelpn7P2eqhV6Wmfs/Z6qFXpaZ+z9nqoVelpn7P2eqhV6Wmfs/Z6qFXpaZ+z9nqoVelpn7P2eqhV6Wmfs/EU+kRkncA0ART6RGSdwDQBFPpEZJ3ANAEU+kRkncA0ART6RGSdwDQBFPpEZJ3ANAEU+kRkncA0ART6RGSdwDQBFPpEZJ3ANAEU+kRkncA0DuyAVex+sJQO7IBV7H6wlA7sgFXsfrCUDuyAVex+sJQO7IBV7H6wlA7sgFXsfrCUDuyAVex+sJQO7IBV7H6wlA7sgFXsfrCUDuyAVex+sJQMpCZ3VF+w9AykJndUX7D0DKQmd1RfsPQMpCZ3VF+w9AykJndUX7D0DKQmd1RfsPQMpCZ3VF+w9AykJndUX7D0DKQmd1RfsPQMpCZ3VF+w9AVF5kxmEFE0BUXmTGYQUTQFReZMZhBRNAVF5kxmEFE0BUXmTGYQUTQFReZMZhBRNAVF5kxmEFE0BUXmTGYQUTQFReZMZhBRNAVF5kxmEFE0A=\",\"dtype\":\"float64\",\"shape\":[100]}},\"selected\":{\"id\":\"8488c260-5667-41a1-9d5b-b6626683c7bf\",\"type\":\"Selection\"},\"selection_policy\":{\"id\":\"68c66423-5706-44da-82a1-440788fb5421\",\"type\":\"UnionRenderers\"}},\"id\":\"de577d2e-d13d-4fa7-8b40-c4149ce1335a\",\"type\":\"ColumnDataSource\"},{\"attributes\":{\"source\":{\"id\":\"bc5b20af-35ab-4cc0-a1c8-48e4800b4947\",\"type\":\"ColumnDataSource\"}},\"id\":\"fdcb5b6b-e5e7-4721-86f9-b3720017355f\",\"type\":\"CDSView\"},{\"attributes\":{},\"id\":\"8488c260-5667-41a1-9d5b-b6626683c7bf\",\"type\":\"Selection\"},{\"attributes\":{},\"id\":\"4b425d34-3eae-4b15-9f31-a0a237f8c995\",\"type\":\"SaveTool\"},{\"attributes\":{},\"id\":\"4ed36c45-db30-4304-954d-ea10403e66aa\",\"type\":\"UnionRenderers\"},{\"attributes\":{\"fill_alpha\":{\"value\":0.1},\"fill_color\":{\"value\":\"#1f77b4\"},\"line_alpha\":{\"value\":0.1},\"line_color\":{\"value\":\"#1f77b4\"},\"radius\":{\"units\":\"data\",\"value\":0.1},\"x\":{\"field\":\"x\"},\"y\":{\"field\":\"y\"}},\"id\":\"ef2ca6b1-6fdd-4ec0-a17b-a16e1c466cbf\",\"type\":\"Circle\"},{\"attributes\":{\"data_source\":{\"id\":\"57bbb0db-4c5b-40e0-b518-c9a8738c2a37\",\"type\":\"ColumnDataSource\"},\"glyph\":{\"id\":\"55b0d980-34a4-4e19-bb03-350132225a33\",\"type\":\"Circle\"},\"hover_glyph\":null,\"muted_glyph\":null,\"nonselection_glyph\":{\"id\":\"e1362fb6-2860-4124-bf36-2097f3ede736\",\"type\":\"Circle\"},\"selection_glyph\":null,\"view\":{\"id\":\"d2954586-e2e7-4e1a-9e59-bfbd393d28e5\",\"type\":\"CDSView\"}},\"id\":\"44fdaf7e-db8e-411a-9dfc-8a9bd4a68366\",\"type\":\"GlyphRenderer\"},{\"attributes\":{},\"id\":\"f1c133be-1361-4ce9-a6fc-e43b8bde0050\",\"type\":\"BasicTicker\"}],\"root_ids\":[\"87dabce5-c981-4811-a4c2-2c1193fb48ef\"]},\"title\":\"Bokeh Application\",\"version\":\"0.13.0\"}};\n",
       "  var render_items = [{\"docid\":\"8178ba2d-62a3-4fb6-a682-da97335e6bc8\",\"roots\":{\"87dabce5-c981-4811-a4c2-2c1193fb48ef\":\"4ed41081-3473-4288-abde-b160797a37e6\"}}];\n",
       "  root.Bokeh.embed.embed_items_notebook(docs_json, render_items);\n",
       "\n",
       "  }\n",
       "  if (root.Bokeh !== undefined) {\n",
       "    embed_document(root);\n",
       "  } else {\n",
       "    var attempts = 0;\n",
       "    var timer = setInterval(function(root) {\n",
       "      if (root.Bokeh !== undefined) {\n",
       "        embed_document(root);\n",
       "        clearInterval(timer);\n",
       "      }\n",
       "      attempts++;\n",
       "      if (attempts > 100) {\n",
       "        console.log(\"Bokeh: ERROR: Unable to run BokehJS code because BokehJS library is missing\")\n",
       "        clearInterval(timer);\n",
       "      }\n",
       "    }, 10, root)\n",
       "  }\n",
       "})(window);"
      ],
      "application/vnd.bokehjs_exec.v0+json": ""
     },
     "metadata": {
      "application/vnd.bokehjs_exec.v0+json": {
       "id": "87dabce5-c981-4811-a4c2-2c1193fb48ef"
      }
     },
     "output_type": "display_data"
    }
   ],
   "source": [
    "m = figure(plot_width=300,plot_height=300)\n",
    "m.quad(\n",
    "    left=l_bound,\n",
    "    right=r_bound,\n",
    "    bottom=d_bound,\n",
    "    top=u_bound,\n",
    "    line_color='black',\n",
    "    fill_color='green',\n",
    "    fill_alpha=alpha\n",
    ")\n",
    "m.circle(x,y,radius=.02,fill_color='red',line_color=None)\n",
    "m.circle(lr_center, ud_center, radius=.1,fill_color='blue', line_color=None)\n",
    "show(m)"
   ]
  },
  {
   "cell_type": "code",
   "execution_count": 19,
   "metadata": {},
   "outputs": [
    {
     "data": {
      "text/plain": [
       "array([-7.71221978e-03,  1.12849976e+00,  2.26471173e+00,  3.40092371e+00,\n",
       "        4.53713569e+00,  5.67334766e+00,  6.80955964e+00,  7.94577162e+00,\n",
       "        9.08198360e+00,  1.02181956e+01, -7.71221978e-03,  1.12849976e+00,\n",
       "        2.26471173e+00,  3.40092371e+00,  4.53713569e+00,  5.67334766e+00,\n",
       "        6.80955964e+00,  7.94577162e+00,  9.08198360e+00,  1.02181956e+01,\n",
       "       -7.71221978e-03,  1.12849976e+00,  2.26471173e+00,  3.40092371e+00,\n",
       "        4.53713569e+00,  5.67334766e+00,  6.80955964e+00,  7.94577162e+00,\n",
       "        9.08198360e+00,  1.02181956e+01, -7.71221978e-03,  1.12849976e+00,\n",
       "        2.26471173e+00,  3.40092371e+00,  4.53713569e+00,  5.67334766e+00,\n",
       "        6.80955964e+00,  7.94577162e+00,  9.08198360e+00,  1.02181956e+01,\n",
       "       -7.71221978e-03,  1.12849976e+00,  2.26471173e+00,  3.40092371e+00,\n",
       "        4.53713569e+00,  5.67334766e+00,  6.80955964e+00,  7.94577162e+00,\n",
       "        9.08198360e+00,  1.02181956e+01, -7.71221978e-03,  1.12849976e+00,\n",
       "        2.26471173e+00,  3.40092371e+00,  4.53713569e+00,  5.67334766e+00,\n",
       "        6.80955964e+00,  7.94577162e+00,  9.08198360e+00,  1.02181956e+01,\n",
       "       -7.71221978e-03,  1.12849976e+00,  2.26471173e+00,  3.40092371e+00,\n",
       "        4.53713569e+00,  5.67334766e+00,  6.80955964e+00,  7.94577162e+00,\n",
       "        9.08198360e+00,  1.02181956e+01, -7.71221978e-03,  1.12849976e+00,\n",
       "        2.26471173e+00,  3.40092371e+00,  4.53713569e+00,  5.67334766e+00,\n",
       "        6.80955964e+00,  7.94577162e+00,  9.08198360e+00,  1.02181956e+01,\n",
       "       -7.71221978e-03,  1.12849976e+00,  2.26471173e+00,  3.40092371e+00,\n",
       "        4.53713569e+00,  5.67334766e+00,  6.80955964e+00,  7.94577162e+00,\n",
       "        9.08198360e+00,  1.02181956e+01, -7.71221978e-03,  1.12849976e+00,\n",
       "        2.26471173e+00,  3.40092371e+00,  4.53713569e+00,  5.67334766e+00,\n",
       "        6.80955964e+00,  7.94577162e+00,  9.08198360e+00,  1.02181956e+01])"
      ]
     },
     "execution_count": 19,
     "metadata": {},
     "output_type": "execute_result"
    }
   ],
   "source": [
    "lr_center"
   ]
  },
  {
   "cell_type": "code",
   "execution_count": null,
   "metadata": {},
   "outputs": [],
   "source": []
  },
  {
   "cell_type": "code",
   "execution_count": 45,
   "metadata": {},
   "outputs": [
    {
     "data": {
      "text/plain": [
       "array([2, 4, 6])"
      ]
     },
     "execution_count": 45,
     "metadata": {},
     "output_type": "execute_result"
    }
   ],
   "source": [
    "np.array([1,2,3]) + np.array([1,2,3])"
   ]
  },
  {
   "cell_type": "code",
   "execution_count": null,
   "metadata": {},
   "outputs": [],
   "source": []
  }
 ],
 "metadata": {
  "kernelspec": {
   "display_name": "Python 3",
   "language": "python",
   "name": "python3"
  },
  "language_info": {
   "codemirror_mode": {
    "name": "ipython",
    "version": 3
   },
   "file_extension": ".py",
   "mimetype": "text/x-python",
   "name": "python",
   "nbconvert_exporter": "python",
   "pygments_lexer": "ipython3",
   "version": "3.7.0"
  }
 },
 "nbformat": 4,
 "nbformat_minor": 2
}
